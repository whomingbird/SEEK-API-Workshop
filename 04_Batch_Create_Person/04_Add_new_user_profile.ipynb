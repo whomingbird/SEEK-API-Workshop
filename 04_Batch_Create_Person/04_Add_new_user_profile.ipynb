{
 "cells": [
  {
   "cell_type": "markdown",
   "metadata": {},
   "source": [
    "# 4 - Creating New User Profiles Using the SEEK WriteAPI"
   ]
  },
  {
   "cell_type": "code",
   "execution_count": 1,
   "metadata": {},
   "outputs": [],
   "source": [
    "import requests\n",
    "import json\n",
    "import string\n",
    "from pprint import pprint"
   ]
  },
  {
   "cell_type": "markdown",
   "metadata": {},
   "source": [
    "The base_url now points to a special SEEK instance that we can do what we like with."
   ]
  },
  {
   "cell_type": "code",
   "execution_count": 2,
   "metadata": {},
   "outputs": [],
   "source": [
    "base_url = 'http://0.0.0.0:3000' # here you can use any SEEK instances"
   ]
  },
  {
   "cell_type": "markdown",
   "metadata": {},
   "source": [
    "In addition to the standard headers for sending a \"GET\" request, we include the API token in the header for authentication.\n",
    "\n",
    "The token acts as a key to access the API, allowing the server to verify the client's identity and permissions.\n",
    "\n",
    "The value \"Token {your_token_created_in_your_SEEK_instance}\" is a placeholder for a real API token. \n",
    "\n",
    "In a production setup, you should:\n",
    " - Replace it with your actual token.\n",
    " - Store the token securely (e.g., in environment variables or a secrets manager)."
   ]
  },
  {
   "cell_type": "code",
   "execution_count": null,
   "metadata": {},
   "outputs": [],
   "source": [
    "headers = {\n",
    "    \"Accept\": \"application/json\",               # Specifies the client expects the response in JSON format.\n",
    "    \"Content-Type\": \"application/json\",         # Informs the server that the request body is in JSON format.\n",
    "    # \"Authorization\": \"Token {your_token_created_in_your_SEEK_instance}\"  # Provides the API token for authentication.\n",
    "}"
   ]
  },
  {
   "cell_type": "markdown",
   "metadata": {},
   "source": [
    "The init_json_data function is designed to prepare JSON data that can be used as the body content in an API POST request. "
   ]
  },
  {
   "cell_type": "code",
   "execution_count": 4,
   "metadata": {},
   "outputs": [],
   "source": [
    "def init_json_data(file, title=None):\n",
    "    json_format = json.load(open(file))\n",
    "    if (title is not None):\n",
    "        json_format['data']['attributes']['title'] = title\n",
    "    json_data = json.dumps(json_format)\n",
    "    return json_data"
   ]
  },
  {
   "cell_type": "markdown",
   "metadata": {},
   "source": [
    "### Post a person profile"
   ]
  },
  {
   "cell_type": "code",
   "execution_count": 5,
   "metadata": {},
   "outputs": [
    {
     "data": {
      "text/plain": [
       "'{\"data\": {\"type\": \"people\", \"attributes\": {\"first_name\": \"Sophia\", \"last_name\": \"Schneider\", \"email\": \"s.schneiderhu@gmail.org\", \"description\": \"Research Associate\", \"web_page\": \"https://www.h-its.org\", \"phone\": \"+49 (0)0000000000\", \"skype_name\": \"s.schneider\", \"expertise\": [\"GOT\", \"programming\"], \"tools\": [\"javascript\", \"C++\", \"Python\", \"Ruby\"]}, \"relationships\": {\"projects\": {\"data\": [{\"id\": \"2\", \"type\": \"projects\"}]}}}}'"
      ]
     },
     "execution_count": 5,
     "metadata": {},
     "output_type": "execute_result"
    }
   ],
   "source": [
    "# Define the URL for the \"people\" resource endpoint by appending to the base URL\n",
    "url = base_url + \"/people\"\n",
    "\n",
    "# Specify the path to the local JSON file containing the data for the person to be created\n",
    "person_file = \"./json/person_example.json\"\n",
    "\n",
    "# Initialize the JSON data by loading it from the specified file\n",
    "json_data = init_json_data(person_file)\n",
    "\n",
    "json_data"
   ]
  },
  {
   "cell_type": "code",
   "execution_count": 6,
   "metadata": {
    "scrolled": true
   },
   "outputs": [
    {
     "name": "stdout",
     "output_type": "stream",
     "text": [
      "http://0.0.0.0:3000/people/280\n",
      "{'data': {'id': '280', 'type': 'people', 'attributes': {'avatar': None, 'title': 'Sophia Schneider', 'description': 'Research Associate', 'first_name': 'Sophia', 'last_name': 'Schneider', 'orcid': None, 'mbox_sha1sum': 'a8eec824b8708e44b8bd3406351b7696c9dad422', 'expertise': ['GOT', 'programming'], 'tools': ['C++', 'Python', 'Ruby', 'javascript'], 'login': None}, 'relationships': {'projects': {'data': []}, 'institutions': {'data': []}, 'investigations': {'data': []}, 'studies': {'data': []}, 'assays': {'data': []}, 'data_files': {'data': []}, 'models': {'data': []}, 'sops': {'data': []}, 'publications': {'data': []}, 'presentations': {'data': []}, 'events': {'data': []}, 'documents': {'data': []}, 'workflows': {'data': []}, 'collections': {'data': []}}, 'links': {'self': '/people/280'}, 'meta': {'created': '2024-12-02T14:19:23.000Z', 'modified': '2024-12-02T14:19:23.000Z', 'api_version': '0.3', 'base_url': 'http://localhost:3000', 'uuid': '5a0f3120-92e6-013d-039a-7efdca78d793'}}, 'jsonapi': {'version': '1.0'}}\n"
     ]
    }
   ],
   "source": [
    "# Send a POST request to the API to create a new person resource\n",
    "# Include the necessary headers for authentication and content type, and the JSON data as the request body\n",
    "response = requests.post(url, headers=headers, data=json_data)\n",
    "\n",
    "# Parse the response as JSON\n",
    "result = response.json()\n",
    "\n",
    "# Print out the result \n",
    "print(base_url + '/people/' + str(result['data']['id']))\n",
    "print(result)"
   ]
  },
  {
   "cell_type": "markdown",
   "metadata": {},
   "source": [
    "### Update a person profile"
   ]
  },
  {
   "cell_type": "code",
   "execution_count": 7,
   "metadata": {},
   "outputs": [
    {
     "name": "stdout",
     "output_type": "stream",
     "text": [
      "Person updated successfully: {'data': {'id': '280', 'type': 'people', 'attributes': {'avatar': None, 'title': 'Patched Name', 'description': 'A person with all possible details', 'first_name': 'Patched', 'last_name': 'Name', 'orcid': 'https://orcid.org/0000-0001-9842-9718', 'mbox_sha1sum': '5f9cd9691c643af7e4506ff02cdb6629b9bb880f', 'expertise': ['modeling', 'programming'], 'tools': ['CeriusII', 'Gromacs', 'Python'], 'login': None}, 'relationships': {'projects': {'data': []}, 'institutions': {'data': []}, 'investigations': {'data': []}, 'studies': {'data': []}, 'assays': {'data': []}, 'data_files': {'data': []}, 'models': {'data': []}, 'sops': {'data': []}, 'publications': {'data': []}, 'presentations': {'data': []}, 'events': {'data': []}, 'documents': {'data': []}, 'workflows': {'data': []}, 'collections': {'data': []}}, 'links': {'self': '/people/280'}, 'meta': {'created': '2024-12-02T14:19:23.000Z', 'modified': '2024-12-02T14:19:23.000Z', 'api_version': '0.3', 'base_url': 'http://localhost:3000', 'uuid': '5a0f3120-92e6-013d-039a-7efdca78d793'}}, 'jsonapi': {'version': '1.0'}}\n"
     ]
    }
   ],
   "source": [
    "# Step 1: Read the JSON from the file\n",
    "person_file = \"./json/update_person_example.json\"\n",
    "\n",
    "with open(person_file, \"r\") as file:\n",
    "    json_data = json.load(file)  # Parse the JSON file\n",
    "\n",
    "# Step 2: Replace \"THE_ID\" with the actual ID from the response\n",
    "real_id = str(result['data']['id'])  # Assuming result is already obtained from a previous API response\n",
    "\n",
    "json_data_str = json.dumps(json_data)  # Convert dict to string to perform replace\n",
    "\n",
    "\n",
    "# Replace the placeholder \"THE_ID\" in the string\n",
    "json_data_str = json_data_str.replace(json_data['data']['id'], str(result['data']['id']))\n",
    "\n",
    "\n",
    "# Convert the string back to a JSON object\n",
    "json_data_updated = json.loads(json_data_str)\n",
    "\n",
    "\n",
    "# Step 3: Send the updated JSON data via a PUT request to update the person\n",
    "person_update_url = base_url + '/people/' + real_id  # Construct the URL for the specific person resource\n",
    "\n",
    "response = requests.put(person_update_url, headers=headers, json=json_data_updated)\n",
    "\n",
    "# Check and print the response\n",
    "if response.status_code == 200:\n",
    "    print(\"Person updated successfully:\", response.json())\n",
    "else:\n",
    "    print(f\"Failed to update the person. Status code: {response.status_code}\")\n",
    "    print(\"Response:\", response.text)\n"
   ]
  },
  {
   "cell_type": "markdown",
   "metadata": {},
   "source": [
    "### Create a list of profiles "
   ]
  },
  {
   "cell_type": "markdown",
   "metadata": {},
   "source": [
    "The init_json_data_replacement function is designed to load JSON data from a file and dynamically replace specific placeholders with their corresponding values, allowing for flexible and reusable JSON payloads for API requests."
   ]
  },
  {
   "cell_type": "code",
   "execution_count": 8,
   "metadata": {},
   "outputs": [],
   "source": [
    "REPLACEMENTS = {\n",
    "    'FIRST_NAME': \"first_name\",\n",
    "    'LAST_NAME': \"last_name\", \n",
    "    'DESCRIPTION': \"web_page\",\n",
    "    'WEBSITE': \"1\",\n",
    "    'ORCID':\"orcid\",\n",
    "    'PHONE_NUMBER':\"phone\"\n",
    "}"
   ]
  },
  {
   "cell_type": "code",
   "execution_count": 9,
   "metadata": {},
   "outputs": [],
   "source": [
    "def init_json_data_replacement(file, replacements=REPLACEMENTS):\n",
    "    json_format = json.load(open(file))\n",
    "    json_data = json.dumps(json_format)\n",
    "    for key, value in replacements.items():\n",
    "        json_data = str.replace(json_data, key, value)\n",
    "    return json_data"
   ]
  },
  {
   "cell_type": "markdown",
   "metadata": {},
   "source": [
    "1. Read the Excel File:\n",
    "We use pandas to read the Excel file.\n",
    "2. Loop Through Each Person:\n",
    "For each row in the file, we update a template with the person's details, such as their first name, last name, description, etc.\n",
    "3. Prepare JSON Data:\n",
    "We use the init_json_data_replacement() function to create a JSON object with the person's details, based on a template file. \n",
    "4.  Send Data to SEEK:\n",
    "We use requests.post() to send the data to SEEK’s API and create a new person resource.\n",
    "5. Print the Result:\n",
    "After sending the data, we print the URL of the newly created person and some of their details from the response."
   ]
  },
  {
   "cell_type": "code",
   "execution_count": 10,
   "metadata": {
    "scrolled": true
   },
   "outputs": [
    {
     "name": "stdout",
     "output_type": "stream",
     "text": [
      "http://0.0.0.0:3000/people/281\n",
      "{'avatar': None, 'title': 'first1 last1', 'description': 'description of first1.last1', 'first_name': 'first1', 'last_name': 'last1', 'orcid': 'https://orcid.org/0000-0002-8318-3222', 'mbox_sha1sum': 'ec53e28650b30ad0949cf97370f57d1ea17dc4d3', 'expertise': [], 'tools': [], 'login': None}\n",
      "------------------------------------------\n",
      "http://0.0.0.0:3000/people/282\n",
      "{'avatar': None, 'title': 'first2 last2', 'description': 'description of first2.last2', 'first_name': 'first2', 'last_name': 'last2', 'orcid': None, 'mbox_sha1sum': '4452d7bc1ec949101458d2b856732f177a970dde', 'expertise': [], 'tools': [], 'login': None}\n",
      "------------------------------------------\n",
      "http://0.0.0.0:3000/people/283\n",
      "{'avatar': None, 'title': 'first3 last3', 'description': 'description of first3.last3', 'first_name': 'first3', 'last_name': 'last3', 'orcid': None, 'mbox_sha1sum': '7c12cffea3bebabfa611fc403a105b92e5adbe11', 'expertise': [], 'tools': [], 'login': None}\n",
      "------------------------------------------\n",
      "http://0.0.0.0:3000/people/284\n",
      "{'avatar': None, 'title': 'first4 last4', 'description': 'description of first4.last4', 'first_name': 'first4', 'last_name': 'last4', 'orcid': None, 'mbox_sha1sum': 'dcbb7b62ed3d0e0073e5da1f77d0368cd8fb917b', 'expertise': [], 'tools': [], 'login': None}\n",
      "------------------------------------------\n",
      "http://0.0.0.0:3000/people/285\n",
      "{'avatar': None, 'title': 'first5 last5', 'description': 'description of first5.last5', 'first_name': 'first5', 'last_name': 'last5', 'orcid': None, 'mbox_sha1sum': 'c7de29ccbd88922ae7b7888feef50152a59430f2', 'expertise': [], 'tools': [], 'login': None}\n",
      "------------------------------------------\n",
      "http://0.0.0.0:3000/people/286\n",
      "{'avatar': None, 'title': 'first6 last6', 'description': 'description of first6.last6', 'first_name': 'first6', 'last_name': 'last6', 'orcid': None, 'mbox_sha1sum': '9e508449a71ab0c517a2343f60784db52372dd57', 'expertise': [], 'tools': [], 'login': None}\n",
      "------------------------------------------\n",
      "http://0.0.0.0:3000/people/287\n",
      "{'avatar': None, 'title': 'first7 last7', 'description': 'description of first7.last7', 'first_name': 'first7', 'last_name': 'last7', 'orcid': None, 'mbox_sha1sum': 'bcef5b359292539c90572cd11c79959e93d1438e', 'expertise': [], 'tools': [], 'login': None}\n",
      "------------------------------------------\n",
      "http://0.0.0.0:3000/people/288\n",
      "{'avatar': None, 'title': 'first8 last8', 'description': 'description of first8.last8', 'first_name': 'first8', 'last_name': 'last8', 'orcid': None, 'mbox_sha1sum': '93148a2e1e8c8fb4d8bd664804a34b69dc3b983d', 'expertise': [], 'tools': [], 'login': None}\n",
      "------------------------------------------\n",
      "http://0.0.0.0:3000/people/289\n",
      "{'avatar': None, 'title': 'first9 last9', 'description': 'description of first9.last9', 'first_name': 'first9', 'last_name': 'last9', 'orcid': None, 'mbox_sha1sum': '6c5d0033b954d90a808955716f0160f8a6b1bfeb', 'expertise': [], 'tools': [], 'login': None}\n",
      "------------------------------------------\n",
      "http://0.0.0.0:3000/people/290\n",
      "{'avatar': None, 'title': 'first10 last10', 'description': 'description of first10.last10', 'first_name': 'first10', 'last_name': 'last10', 'orcid': None, 'mbox_sha1sum': 'cb785dc1c31d3180575f93a43552e42d9e4a6ce6', 'expertise': [], 'tools': [], 'login': None}\n",
      "------------------------------------------\n",
      "http://0.0.0.0:3000/people/291\n",
      "{'avatar': None, 'title': 'first11 last11', 'description': 'description of first11.last11', 'first_name': 'first11', 'last_name': 'last11', 'orcid': None, 'mbox_sha1sum': '938ac3f06eafa8a41329353fa50bcb0ce1758d3f', 'expertise': [], 'tools': [], 'login': None}\n",
      "------------------------------------------\n",
      "http://0.0.0.0:3000/people/292\n",
      "{'avatar': None, 'title': 'first12 last12', 'description': 'description of first12.last12', 'first_name': 'first12', 'last_name': 'last12', 'orcid': None, 'mbox_sha1sum': '73de5fdec9858c0a1315598ddf030b364ba446ca', 'expertise': [], 'tools': [], 'login': None}\n",
      "------------------------------------------\n",
      "http://0.0.0.0:3000/people/293\n",
      "{'avatar': None, 'title': 'first13 last13', 'description': 'description of first13.last13', 'first_name': 'first13', 'last_name': 'last13', 'orcid': None, 'mbox_sha1sum': '9a4a65b0f3f47b67dfb3a947e61ba87bba8f1b4f', 'expertise': [], 'tools': [], 'login': None}\n",
      "------------------------------------------\n",
      "http://0.0.0.0:3000/people/294\n",
      "{'avatar': None, 'title': 'first14 last14', 'description': 'description of first14.last14', 'first_name': 'first14', 'last_name': 'last14', 'orcid': None, 'mbox_sha1sum': '903ff6a9ecb28a36d324c8be9c6ba8153e1608e6', 'expertise': [], 'tools': [], 'login': None}\n",
      "------------------------------------------\n",
      "http://0.0.0.0:3000/people/295\n",
      "{'avatar': None, 'title': 'first15 last15', 'description': 'description of first15.last15', 'first_name': 'first15', 'last_name': 'last15', 'orcid': None, 'mbox_sha1sum': 'be1df28cb4892c2c368bb5ebb790b27bdd224241', 'expertise': [], 'tools': [], 'login': None}\n",
      "------------------------------------------\n",
      "http://0.0.0.0:3000/people/296\n",
      "{'avatar': None, 'title': 'first16 last16', 'description': 'description of first16.last16', 'first_name': 'first16', 'last_name': 'last16', 'orcid': None, 'mbox_sha1sum': '57721552995e713d7f49279d2a486bd8a2372228', 'expertise': [], 'tools': [], 'login': None}\n",
      "------------------------------------------\n",
      "http://0.0.0.0:3000/people/297\n",
      "{'avatar': None, 'title': 'first17 last17', 'description': 'description of first17.last17', 'first_name': 'first17', 'last_name': 'last17', 'orcid': None, 'mbox_sha1sum': 'c027d97f1e231e82be04905f8fd1264efd9cd3f4', 'expertise': [], 'tools': [], 'login': None}\n",
      "------------------------------------------\n",
      "http://0.0.0.0:3000/people/298\n",
      "{'avatar': None, 'title': 'first18 last18', 'description': 'description of first18.last18', 'first_name': 'first18', 'last_name': 'last18', 'orcid': None, 'mbox_sha1sum': '4b4d86e58826bc17e416b009fc952ad11a2d08cb', 'expertise': [], 'tools': [], 'login': None}\n",
      "------------------------------------------\n",
      "http://0.0.0.0:3000/people/299\n",
      "{'avatar': None, 'title': 'first19 last19', 'description': 'description of first19.last19', 'first_name': 'first19', 'last_name': 'last19', 'orcid': None, 'mbox_sha1sum': '141e74b65d111a99680c9426e32adc10adc1c3e0', 'expertise': [], 'tools': [], 'login': None}\n",
      "------------------------------------------\n",
      "http://0.0.0.0:3000/people/300\n",
      "{'avatar': None, 'title': 'first20 last20', 'description': 'description of first20.last20', 'first_name': 'first20', 'last_name': 'last20', 'orcid': None, 'mbox_sha1sum': 'eb79224500b4df69b19967ce9fe7bfa82158035d', 'expertise': [], 'tools': [], 'login': None}\n",
      "------------------------------------------\n"
     ]
    }
   ],
   "source": [
    "import pandas as pd\n",
    "\n",
    "peoplelist_file = 'peoplelist.xlsx'\n",
    "peoplelist = pd.read_excel(peoplelist_file,dtype=str)\n",
    "peoplelist.fillna('', inplace=True)\n",
    "\n",
    "for index, row in peoplelist.iterrows():\n",
    "\n",
    "    REPLACEMENTS['FIRST_NAME'] = row['first_name']\n",
    "    REPLACEMENTS['LAST_NAME'] = row['last_name']\n",
    "    REPLACEMENTS['DESCRIPTION'] = row['description']\n",
    "    REPLACEMENTS['WEBSITE'] = row['web_page']\n",
    "    REPLACEMENTS['ORCID'] = row['orcid']\n",
    "    REPLACEMENTS['PHONE_NUMBER'] = str(row['phone'])\n",
    "    \n",
    "    person_file = \"./json/person_template.json\"\n",
    "\n",
    "    json_data = init_json_data_replacement(person_file, REPLACEMENTS)\n",
    "    \n",
    "    \n",
    "    response = requests.post(url, headers=headers, data=json_data)\n",
    "\n",
    "    result = response.json()\n",
    "    print(base_url + '/people/' + str(result['data']['id']))\n",
    "    print(result['data']['attributes'])\n",
    "    \n",
    "    \n",
    "    print(\"------------------------------------------\")"
   ]
  },
  {
   "cell_type": "code",
   "execution_count": null,
   "metadata": {},
   "outputs": [],
   "source": []
  }
 ],
 "metadata": {
  "kernelspec": {
   "display_name": "Python 3 (ipykernel)",
   "language": "python",
   "name": "python3"
  },
  "language_info": {
   "codemirror_mode": {
    "name": "ipython",
    "version": 3
   },
   "file_extension": ".py",
   "mimetype": "text/x-python",
   "name": "python",
   "nbconvert_exporter": "python",
   "pygments_lexer": "ipython3",
   "version": "3.10.12"
  }
 },
 "nbformat": 4,
 "nbformat_minor": 4
}
