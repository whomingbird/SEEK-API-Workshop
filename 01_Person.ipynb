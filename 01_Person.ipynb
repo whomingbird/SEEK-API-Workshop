{
 "cells": [
  {
   "cell_type": "markdown",
   "metadata": {
    "colab_type": "text",
    "id": "MRz1Ay3ej2jx"
   },
   "source": [
    "# 1 - Introducing interacting with the API, the JSON format and structure\n",
    "\n",
    "\n",
    "\n",
    "Import the libraries so that they can be used within the notebook\n",
    "\n",
    "  * **requests** is used to make HTTP calls\n",
    "  * **json** is used to encode and decode strings into JSON\n",
    "  * **pandas** helps format the JSON data in a more readable format\n",
    "  * **json_normalize** from pandas is a utility to flatten nested JSON structures into a flat table (DataFrame), which is useful when dealing with complex JSON objects."
   ]
  },
  {
   "cell_type": "code",
   "execution_count": 1,
   "metadata": {
    "colab": {},
    "colab_type": "code",
    "id": "MsBH0RMG6WQB"
   },
   "outputs": [],
   "source": [
    "import requests\n",
    "import json\n",
    "import pandas as pd\n",
    "from pandas import json_normalize"
   ]
  },
  {
   "cell_type": "markdown",
   "metadata": {
    "colab_type": "text",
    "id": "IDdTyTLZkuXb"
   },
   "source": [
    "Since we are just 'reading', we will use the FAIRDOMHub directly for these examples"
   ]
  },
  {
   "cell_type": "code",
   "execution_count": 2,
   "metadata": {
    "colab": {},
    "colab_type": "code",
    "id": "4GZtonsTWhd6"
   },
   "outputs": [],
   "source": [
    "base_url = 'https://www.fairdomhub.org'"
   ]
  },
  {
   "cell_type": "markdown",
   "metadata": {
    "colab_type": "text",
    "id": "KBHU_WtVk43y"
   },
   "source": [
    "A helper method for receiving the JSON response for a give resource type and id.\n",
    "\n",
    "We request using the standard URL (in the example https://fairdomhub.org/people/134), but instead of receiving the default HTML response, we request to get JSON. The is acheived by the Accept header: *\"Accept\": \"application/vnd.api+json\"* . This is known as [Content Negotiation](https://en.wikipedia.org/wiki/Content_negotiation) (\"application/json\" would also work).\n",
    "\n",
    "You can also see the JSON in the browser by adding the **.json** extension, https://fairdomhub.org/people/134.json .\n",
    "\n",
    "We use the Python **requests** module to make the request:\n",
    "\n",
    "  * **Accept: application/vnd.api+json** - indicates that the notebook expects any data returned to be in JSON API format\n",
    "  * **Accept-Charset: ISO-8859-1** - indicates that the notebook expects any text returned to be in ISO-8859-1 character set\n",
    "\n",
    "These headers indicate that the client expects the response in JSON format (with the media type \"vnd.api+json\") and supports the ISO-8859-1 character encoding for the response data."
   ]
  },
  {
   "cell_type": "code",
   "execution_count": 3,
   "metadata": {
    "colab": {},
    "colab_type": "code",
    "id": "gh2LJE_l6pgk"
   },
   "outputs": [],
   "source": [
    "def json_for_resource(type, id):    \n",
    "\n",
    "  headers = {\n",
    "      \"Accept\": \"application/vnd.api+json\",\n",
    "      \"Accept-Charset\": \"ISO-8859-1\"\n",
    "  }\n",
    "\n",
    "  print(base_url + \"/\" + type + \"/\" + str(id))\n",
    "  r = requests.get(base_url + \"/\" + type + \"/\" + str(id), headers=headers)\n",
    "  \n",
    "  r.raise_for_status()\n",
    "  return r.json()\n",
    "  "
   ]
  },
  {
   "cell_type": "markdown",
   "metadata": {
    "colab_type": "text",
    "id": "v0bKuUdbl4Ej"
   },
   "source": [
    "Using the previous function, we request the JSON for a person in the FAIRDOMHub, and display the resulting JSON.\n",
    "\n",
    "The JSON structure follows the [JSONAPI Specification](https://jsonapi.org/), which is shared convention. It is designed to be flexible, application indepentant, and makes interoperability and general tooling easier.\n",
    "\n",
    "The main elements are:\n",
    "\n",
    "  * **data** - the resources primary data\n",
    "  * **attributes** - metadata attributes association with the resource\n",
    "  * **links** - links related to the resource, usually the link to itself\n",
    "  * **meta** - non-standard meta-information about a resource that can not be represented as an attribute or relationship, this is generally created and updated timestamps\n",
    "  * **relationships** - other resources related to this resource"
   ]
  },
  {
   "cell_type": "code",
   "execution_count": 4,
   "metadata": {
    "colab": {},
    "colab_type": "code",
    "id": "L7a0FAgc_rk9"
   },
   "outputs": [
    {
     "name": "stdout",
     "output_type": "stream",
     "text": [
      "https://www.fairdomhub.org/people/599\n"
     ]
    },
    {
     "data": {
      "text/plain": [
       "{'data': {'id': '599',\n",
       "  'type': 'people',\n",
       "  'attributes': {'avatar': '/people/599/avatars/979',\n",
       "   'title': 'Ulrike Wittig',\n",
       "   'description': '',\n",
       "   'first_name': 'Ulrike',\n",
       "   'last_name': 'Wittig',\n",
       "   'orcid': 'https://orcid.org/0000-0002-9077-5664',\n",
       "   'mbox_sha1sum': 'a3f3fb1bad56371ed5806799679edd8a271c4a3a',\n",
       "   'expertise': ['Biochemistry', 'Curation', 'Data Management', 'Databases'],\n",
       "   'tools': ['SABIO-RK', 'SEEK']},\n",
       "  'relationships': {'projects': {'data': [{'id': '35', 'type': 'projects'},\n",
       "     {'id': '49', 'type': 'projects'},\n",
       "     {'id': '50', 'type': 'projects'},\n",
       "     {'id': '54', 'type': 'projects'},\n",
       "     {'id': '91', 'type': 'projects'},\n",
       "     {'id': '19', 'type': 'projects'},\n",
       "     {'id': '128', 'type': 'projects'},\n",
       "     {'id': '133', 'type': 'projects'},\n",
       "     {'id': '158', 'type': 'projects'},\n",
       "     {'id': '182', 'type': 'projects'},\n",
       "     {'id': '190', 'type': 'projects'},\n",
       "     {'id': '195', 'type': 'projects'},\n",
       "     {'id': '199', 'type': 'projects'},\n",
       "     {'id': '212', 'type': 'projects'},\n",
       "     {'id': '213', 'type': 'projects'},\n",
       "     {'id': '214', 'type': 'projects'},\n",
       "     {'id': '227', 'type': 'projects'},\n",
       "     {'id': '231', 'type': 'projects'},\n",
       "     {'id': '267', 'type': 'projects'},\n",
       "     {'id': '308', 'type': 'projects'},\n",
       "     {'id': '309', 'type': 'projects'},\n",
       "     {'id': '310', 'type': 'projects'},\n",
       "     {'id': '311', 'type': 'projects'},\n",
       "     {'id': '312', 'type': 'projects'},\n",
       "     {'id': '313', 'type': 'projects'},\n",
       "     {'id': '319', 'type': 'projects'},\n",
       "     {'id': '361', 'type': 'projects'}]},\n",
       "   'institutions': {'data': [{'id': '7', 'type': 'institutions'}]},\n",
       "   'investigations': {'data': [{'id': '107', 'type': 'investigations'}]},\n",
       "   'studies': {'data': []},\n",
       "   'assays': {'data': []},\n",
       "   'data_files': {'data': [{'id': '1391', 'type': 'data_files'},\n",
       "     {'id': '1392', 'type': 'data_files'},\n",
       "     {'id': '1393', 'type': 'data_files'},\n",
       "     {'id': '2145', 'type': 'data_files'},\n",
       "     {'id': '2146', 'type': 'data_files'},\n",
       "     {'id': '2947', 'type': 'data_files'},\n",
       "     {'id': '4074', 'type': 'data_files'}]},\n",
       "   'models': {'data': []},\n",
       "   'sops': {'data': []},\n",
       "   'publications': {'data': [{'id': '287', 'type': 'publications'},\n",
       "     {'id': '327', 'type': 'publications'},\n",
       "     {'id': '357', 'type': 'publications'},\n",
       "     {'id': '547', 'type': 'publications'},\n",
       "     {'id': '548', 'type': 'publications'},\n",
       "     {'id': '549', 'type': 'publications'},\n",
       "     {'id': '550', 'type': 'publications'},\n",
       "     {'id': '551', 'type': 'publications'},\n",
       "     {'id': '552', 'type': 'publications'},\n",
       "     {'id': '553', 'type': 'publications'},\n",
       "     {'id': '554', 'type': 'publications'},\n",
       "     {'id': '555', 'type': 'publications'},\n",
       "     {'id': '556', 'type': 'publications'},\n",
       "     {'id': '557', 'type': 'publications'},\n",
       "     {'id': '558', 'type': 'publications'},\n",
       "     {'id': '559', 'type': 'publications'},\n",
       "     {'id': '560', 'type': 'publications'},\n",
       "     {'id': '561', 'type': 'publications'},\n",
       "     {'id': '562', 'type': 'publications'},\n",
       "     {'id': '563', 'type': 'publications'},\n",
       "     {'id': '564', 'type': 'publications'},\n",
       "     {'id': '565', 'type': 'publications'},\n",
       "     {'id': '566', 'type': 'publications'},\n",
       "     {'id': '567', 'type': 'publications'},\n",
       "     {'id': '569', 'type': 'publications'},\n",
       "     {'id': '571', 'type': 'publications'}]},\n",
       "   'presentations': {'data': [{'id': '257', 'type': 'presentations'},\n",
       "     {'id': '769', 'type': 'presentations'},\n",
       "     {'id': '1134', 'type': 'presentations'},\n",
       "     {'id': '1290', 'type': 'presentations'},\n",
       "     {'id': '1291', 'type': 'presentations'},\n",
       "     {'id': '1292', 'type': 'presentations'},\n",
       "     {'id': '1293', 'type': 'presentations'},\n",
       "     {'id': '1306', 'type': 'presentations'},\n",
       "     {'id': '1316', 'type': 'presentations'},\n",
       "     {'id': '1317', 'type': 'presentations'},\n",
       "     {'id': '1318', 'type': 'presentations'},\n",
       "     {'id': '1319', 'type': 'presentations'},\n",
       "     {'id': '1386', 'type': 'presentations'},\n",
       "     {'id': '1388', 'type': 'presentations'},\n",
       "     {'id': '1414', 'type': 'presentations'},\n",
       "     {'id': '1438', 'type': 'presentations'},\n",
       "     {'id': '1439', 'type': 'presentations'},\n",
       "     {'id': '1440', 'type': 'presentations'},\n",
       "     {'id': '1441', 'type': 'presentations'},\n",
       "     {'id': '1442', 'type': 'presentations'}]},\n",
       "   'events': {'data': [{'id': '302', 'type': 'events'},\n",
       "     {'id': '305', 'type': 'events'},\n",
       "     {'id': '315', 'type': 'events'},\n",
       "     {'id': '317', 'type': 'events'},\n",
       "     {'id': '320', 'type': 'events'}]},\n",
       "   'documents': {'data': [{'id': '4183', 'type': 'documents'},\n",
       "     {'id': '4184', 'type': 'documents'},\n",
       "     {'id': '4187', 'type': 'documents'}]},\n",
       "   'workflows': {'data': []},\n",
       "   'collections': {'data': []}},\n",
       "  'links': {'self': '/people/599'},\n",
       "  'meta': {'created': '2015-10-28T10:20:12.000Z',\n",
       "   'modified': '2020-10-30T07:01:45.000Z',\n",
       "   'api_version': '0.3',\n",
       "   'base_url': 'https://fairdomhub.org',\n",
       "   'uuid': '65cbbcc0-5f8b-0133-3777-549f350973c0'}},\n",
       " 'jsonapi': {'version': '1.0'}}"
      ]
     },
     "execution_count": 4,
     "metadata": {},
     "output_type": "execute_result"
    }
   ],
   "source": [
    "person_id = 599\n",
    "\n",
    "result = json_for_resource('people',person_id)\n",
    "\n",
    "result"
   ]
  },
  {
   "cell_type": "markdown",
   "metadata": {
    "colab_type": "text",
    "id": "hzkTu47tqIAe"
   },
   "source": [
    "Here we delve into the attributes:"
   ]
  },
  {
   "cell_type": "code",
   "execution_count": 5,
   "metadata": {
    "colab": {},
    "colab_type": "code",
    "id": "WN8mMe487GTp"
   },
   "outputs": [
    {
     "data": {
      "text/html": [
       "<div>\n",
       "<style scoped>\n",
       "    .dataframe tbody tr th:only-of-type {\n",
       "        vertical-align: middle;\n",
       "    }\n",
       "\n",
       "    .dataframe tbody tr th {\n",
       "        vertical-align: top;\n",
       "    }\n",
       "\n",
       "    .dataframe thead th {\n",
       "        text-align: right;\n",
       "    }\n",
       "</style>\n",
       "<table border=\"1\" class=\"dataframe\">\n",
       "  <thead>\n",
       "    <tr style=\"text-align: right;\">\n",
       "      <th></th>\n",
       "      <th>avatar</th>\n",
       "      <th>title</th>\n",
       "      <th>description</th>\n",
       "      <th>first_name</th>\n",
       "      <th>last_name</th>\n",
       "      <th>orcid</th>\n",
       "      <th>mbox_sha1sum</th>\n",
       "      <th>expertise</th>\n",
       "      <th>tools</th>\n",
       "    </tr>\n",
       "  </thead>\n",
       "  <tbody>\n",
       "    <tr>\n",
       "      <th>0</th>\n",
       "      <td>/people/599/avatars/979</td>\n",
       "      <td>Ulrike Wittig</td>\n",
       "      <td></td>\n",
       "      <td>Ulrike</td>\n",
       "      <td>Wittig</td>\n",
       "      <td>https://orcid.org/0000-0002-9077-5664</td>\n",
       "      <td>a3f3fb1bad56371ed5806799679edd8a271c4a3a</td>\n",
       "      <td>[Biochemistry, Curation, Data Management, Data...</td>\n",
       "      <td>[SABIO-RK, SEEK]</td>\n",
       "    </tr>\n",
       "  </tbody>\n",
       "</table>\n",
       "</div>"
      ],
      "text/plain": [
       "                    avatar          title description first_name last_name  \\\n",
       "0  /people/599/avatars/979  Ulrike Wittig                 Ulrike    Wittig   \n",
       "\n",
       "                                   orcid  \\\n",
       "0  https://orcid.org/0000-0002-9077-5664   \n",
       "\n",
       "                               mbox_sha1sum  \\\n",
       "0  a3f3fb1bad56371ed5806799679edd8a271c4a3a   \n",
       "\n",
       "                                           expertise             tools  \n",
       "0  [Biochemistry, Curation, Data Management, Data...  [SABIO-RK, SEEK]  "
      ]
     },
     "execution_count": 5,
     "metadata": {},
     "output_type": "execute_result"
    }
   ],
   "source": [
    "data = json_normalize(result['data']['attributes'])\n",
    "\n",
    "data"
   ]
  },
  {
   "cell_type": "markdown",
   "metadata": {
    "colab_type": "text",
    "id": "fJCRrXgAqVBO"
   },
   "source": [
    "Listing the **tools** this person has described themself as having knowledge about"
   ]
  },
  {
   "cell_type": "code",
   "execution_count": 6,
   "metadata": {
    "colab": {},
    "colab_type": "code",
    "id": "FO17il1y_GQP"
   },
   "outputs": [
    {
     "data": {
      "text/plain": [
       "['SABIO-RK', 'SEEK']"
      ]
     },
     "execution_count": 6,
     "metadata": {},
     "output_type": "execute_result"
    }
   ],
   "source": [
    "result['data']['attributes']['tools']"
   ]
  },
  {
   "cell_type": "markdown",
   "metadata": {
    "colab_type": "text",
    "id": "FiaSmdrnqYgl"
   },
   "source": [
    "Here is the persons **avatar** displayed, which is also accessible through the API"
   ]
  },
  {
   "cell_type": "code",
   "execution_count": 7,
   "metadata": {
    "colab": {},
    "colab_type": "code",
    "id": "VTh1jl-AWdD7"
   },
   "outputs": [
    {
     "data": {
      "text/html": [
       "<img src=\"https://www.fairdomhub.org/people/599/avatars/979\"/>"
      ],
      "text/plain": [
       "<IPython.core.display.Image object>"
      ]
     },
     "execution_count": 7,
     "metadata": {},
     "output_type": "execute_result"
    }
   ],
   "source": [
    "avatar_url = base_url + result['data']['attributes']['avatar']\n",
    "\n",
    "from IPython.display import Image\n",
    "from IPython.core.display import HTML \n",
    "Image(url= avatar_url)"
   ]
  }
 ],
 "metadata": {
  "colab": {
   "collapsed_sections": [],
   "name": "01 Person.ipynb",
   "private_outputs": true,
   "provenance": [],
   "version": "0.3.2"
  },
  "kernelspec": {
   "display_name": "Python 3 (ipykernel)",
   "language": "python",
   "name": "python3"
  },
  "language_info": {
   "codemirror_mode": {
    "name": "ipython",
    "version": 3
   },
   "file_extension": ".py",
   "mimetype": "text/x-python",
   "name": "python",
   "nbconvert_exporter": "python",
   "pygments_lexer": "ipython3",
   "version": "3.10.12"
  }
 },
 "nbformat": 4,
 "nbformat_minor": 4
}
