{
 "cells": [
  {
   "cell_type": "markdown",
   "metadata": {
    "colab_type": "text",
    "id": "LuN06HCHo5JD"
   },
   "source": [
    "# 5 Uploading Model files\n",
    "\n",
    "Demonstrates uploading a file (rather than registering a URL). This requires multiple steps, first creating content blob \"placeholders\", and then updating the content blobs with the data to be uploaded."
   ]
  },
  {
   "cell_type": "code",
   "execution_count": 1,
   "metadata": {
    "colab": {},
    "colab_type": "code",
    "id": "WgznBte9jT-K"
   },
   "outputs": [],
   "source": [
    "import requests\n",
    "import json\n",
    "import string"
   ]
  },
  {
   "cell_type": "code",
   "execution_count": 2,
   "metadata": {
    "colab": {},
    "colab_type": "code",
    "id": "8IKxEL9Njg2f"
   },
   "outputs": [],
   "source": [
    "base_url = 'http://0.0.0.0:3000'"
   ]
  },
  {
   "cell_type": "markdown",
   "metadata": {},
   "source": [
    "Set up the headers and authenticate just as in the earlier steps."
   ]
  },
  {
   "cell_type": "code",
   "execution_count": 3,
   "metadata": {
    "colab": {},
    "colab_type": "code",
    "id": "xJwC0C0wji3n"
   },
   "outputs": [],
   "source": [
    "headers = {\n",
    "    \"Accept\": \"application/json\",               # Specifies the client expects the response in JSON format.\n",
    "    \"Content-Type\": \"application/json\",         # Informs the server that the request body is in JSON format.\n",
    "    \"Authorization\": \"Token {your_token_created_in_your_SEEK_instance}\"  # Provides the API token for authentication.\n",
    "}"
   ]
  },
  {
   "cell_type": "code",
   "execution_count": 4,
   "metadata": {
    "colab": {},
    "colab_type": "code",
    "id": "-cP9Te4_skfy"
   },
   "outputs": [],
   "source": [
    "def json_for_resource(type, id):\n",
    "    url = f\"{base_url}/{type}/{id}\"\n",
    "    response = requests.get(url, headers=headers)\n",
    "    \n",
    "    if response.status_code != 200:\n",
    "        print(response.json())\n",
    "    \n",
    "    response.raise_for_status()\n",
    "    return response.json()"
   ]
  },
  {
   "cell_type": "markdown",
   "metadata": {},
   "source": [
    "Define the projects id."
   ]
  },
  {
   "cell_type": "code",
   "execution_count": 5,
   "metadata": {
    "colab": {},
    "colab_type": "code",
    "id": "xmCnHZc5jrVF"
   },
   "outputs": [],
   "source": [
    "containing_project_id = 1 "
   ]
  },
  {
   "cell_type": "markdown",
   "metadata": {
    "colab_type": "text",
    "id": "MVTl062tpNuY"
   },
   "source": [
    "This defines the placeholder information for the content blob. For now just the filename and mime type are provided."
   ]
  },
  {
   "cell_type": "code",
   "execution_count": 6,
   "metadata": {
    "colab": {},
    "colab_type": "code",
    "id": "SscuQxmemHXE"
   },
   "outputs": [],
   "source": [
    "local_blob = {'original_filename' : 'Copasi_model_file.xml', 'content_type' : 'text/xml'}"
   ]
  },
  {
   "cell_type": "markdown",
   "metadata": {
    "colab_type": "text",
    "id": "zQIvfSVcqP2M"
   },
   "source": [
    "Set up the attributes for the model and include the content blob details. This also shows the intent that content blobs will be provided.\n",
    "\n",
    "This code constructs a Python dictionary named model that is formatted to match the expected structure of a JSON payload for a POST request."
   ]
  },
  {
   "cell_type": "code",
   "execution_count": 7,
   "metadata": {
    "colab": {},
    "colab_type": "code",
    "id": "Q2gXy-NjlIt0"
   },
   "outputs": [],
   "source": [
    "model = {}\n",
    "model['data'] = {}\n",
    "model['data']['type'] = 'models'\n",
    "model['data']['attributes'] = {}\n",
    "model['data']['attributes']['title'] = 'Copasi model file'\n",
    "model['data']['attributes']['policy'] = {'access':'download'}\n",
    "model['data']['relationships'] = {}\n",
    "model['data']['relationships']['projects'] = {}\n",
    "model['data']['relationships']['projects']['data'] = [{'id' : containing_project_id, 'type' : 'projects'}]\n",
    "\n",
    "model['data']['attributes']['content_blobs'] = [local_blob]"
   ]
  },
  {
   "cell_type": "markdown",
   "metadata": {
    "colab_type": "text",
    "id": "iv5fTMlTrB28"
   },
   "source": [
    "Register the Model. The resulting JSON contains the content blob element, but this is currently blank. "
   ]
  },
  {
   "cell_type": "code",
   "execution_count": 8,
   "metadata": {
    "colab": {},
    "colab_type": "code",
    "id": "NfB5YCOdltZh"
   },
   "outputs": [
    {
     "name": "stdout",
     "output_type": "stream",
     "text": [
      "Response code: 200\n",
      "{\n",
      "    \"data\": {\n",
      "        \"id\": \"20\",\n",
      "        \"type\": \"models\",\n",
      "        \"attributes\": {\n",
      "            \"policy\": {\n",
      "                \"access\": \"download\",\n",
      "                \"permissions\": []\n",
      "            },\n",
      "            \"discussion_links\": [],\n",
      "            \"title\": \"Copasi model file\",\n",
      "            \"license\": null,\n",
      "            \"description\": null,\n",
      "            \"latest_version\": 1,\n",
      "            \"tags\": [],\n",
      "            \"versions\": [\n",
      "                {\n",
      "                    \"version\": 1,\n",
      "                    \"revision_comments\": null,\n",
      "                    \"url\": \"http://localhost:3000/models/20?version=1\",\n",
      "                    \"doi\": null\n",
      "                }\n",
      "            ],\n",
      "            \"version\": 1,\n",
      "            \"revision_comments\": null,\n",
      "            \"created_at\": \"2024-12-02T14:31:33.000Z\",\n",
      "            \"updated_at\": \"2024-12-02T14:31:33.000Z\",\n",
      "            \"doi\": null,\n",
      "            \"content_blobs\": [\n",
      "                {\n",
      "                    \"original_filename\": \"Copasi_model_file.xml\",\n",
      "                    \"url\": null,\n",
      "                    \"md5sum\": null,\n",
      "                    \"sha1sum\": null,\n",
      "                    \"content_type\": \"text/xml\",\n",
      "                    \"link\": \"http://localhost:3000/models/20/content_blobs/76\",\n",
      "                    \"size\": null\n",
      "                }\n",
      "            ],\n",
      "            \"creators\": [],\n",
      "            \"other_creators\": null,\n",
      "            \"model_type\": null,\n",
      "            \"model_format\": null,\n",
      "            \"environment\": null,\n",
      "            \"model_image_link\": null\n",
      "        },\n",
      "        \"relationships\": {\n",
      "            \"creators\": {\n",
      "                \"data\": []\n",
      "            },\n",
      "            \"submitter\": {\n",
      "                \"data\": [\n",
      "                    {\n",
      "                        \"id\": \"1\",\n",
      "                        \"type\": \"people\"\n",
      "                    }\n",
      "                ]\n",
      "            },\n",
      "            \"organisms\": {\n",
      "                \"data\": []\n",
      "            },\n",
      "            \"people\": {\n",
      "                \"data\": [\n",
      "                    {\n",
      "                        \"id\": \"1\",\n",
      "                        \"type\": \"people\"\n",
      "                    }\n",
      "                ]\n",
      "            },\n",
      "            \"projects\": {\n",
      "                \"data\": [\n",
      "                    {\n",
      "                        \"id\": \"1\",\n",
      "                        \"type\": \"projects\"\n",
      "                    }\n",
      "                ]\n",
      "            },\n",
      "            \"investigations\": {\n",
      "                \"data\": []\n",
      "            },\n",
      "            \"studies\": {\n",
      "                \"data\": []\n",
      "            },\n",
      "            \"assays\": {\n",
      "                \"data\": []\n",
      "            },\n",
      "            \"publications\": {\n",
      "                \"data\": []\n",
      "            }\n",
      "        },\n",
      "        \"links\": {\n",
      "            \"self\": \"/models/20?version=1\"\n",
      "        },\n",
      "        \"meta\": {\n",
      "            \"created\": \"2024-12-02T14:31:33.000Z\",\n",
      "            \"modified\": \"2024-12-02T14:31:33.000Z\",\n",
      "            \"api_version\": \"0.3\",\n",
      "            \"base_url\": \"http://localhost:3000\",\n",
      "            \"uuid\": \"0d386090-92e8-013d-039a-7efdca78d793\"\n",
      "        }\n",
      "    },\n",
      "    \"jsonapi\": {\n",
      "        \"version\": \"1.0\"\n",
      "    }\n",
      "}\n"
     ]
    }
   ],
   "source": [
    "response = requests.post(base_url + '/models', headers=headers, json=model)\n",
    "print(f\"Response code: {response.status_code}\")\n",
    "\n",
    "populated_model = response.json()\n",
    "print(json.dumps(populated_model, indent=4))"
   ]
  },
  {
   "cell_type": "markdown",
   "metadata": {
    "colab_type": "text",
    "id": "zmkoGcn0rKib"
   },
   "source": [
    "The entry is now visible in Seek, but there is no content yet.\n",
    "\n",
    "Now upload the file. Normally it would come from a local file, but we simulate this here by fetching from a URL (notice how the SEEK API is being used to fetch a copasi model file!)\n",
    "\n",
    "*data* contains the data of a xml file\n",
    "\n"
   ]
  },
  {
   "cell_type": "code",
   "execution_count": 9,
   "metadata": {
    "colab": {},
    "colab_type": "code",
    "id": "1_Z-8Xx8v8bV",
    "scrolled": true
   },
   "outputs": [
    {
     "name": "stdout",
     "output_type": "stream",
     "text": [
      "b'<?xml version=\"1.0\" encoding=\"UTF-8\"?>\\n<sbml xmlns=\"http://www.sbml.org/sbml/level3/version1/core\" level=\"3\" version=\"1\">\\n  <model id=\"U2020_2\" name=\"U2020_2\" substanceUnits=\"substance\" timeUnits=\"time_unit\" volumeUnits=\"volume\" areaUnits=\"area\" lengthUnits=\"length\" extentUnits=\"extent\">\\n    <listOfUnitDefinitions>\\n      <unitDefinition id=\"substance\" name=\"nM (default)\">\\n        <listOfUnits>\\n          <unit kind=\"mole\" exponent=\"1\" scale=\"-9\" multiplier=\"1\"/>\\n        </listOfUnits>\\n      </unitDefinition>\\n      <unitDefinition id=\"extent\">\\n        <listOfUnits>\\n          <unit kind=\"mole\" exponent=\"1\" scale=\"-9\" multiplier=\"1\"/>\\n        </listOfUnits>\\n      </unitDefinition>\\n      <unitDefinition id=\"time_unit\" name=\"hour (default)\">\\n        <listOfUnits>\\n          <unit kind=\"second\" exponent=\"1\" scale=\"3\" multiplier=\"3.6\"/>\\n        </listOfUnits>\\n      </unitDefinition>\\n      <unitDefinition id=\"area\">\\n        <listOfUnits>\\n          <unit kind=\"metre\" exponent=\"2\" scale=\"0\" multiplier=\"1\"/>\\n        </listOfUnits>\\n      </unitDefinition>\\n      <unitDefinition id=\"length\">\\n        <listOfUnits>\\n          <unit kind=\"metre\" exponent=\"1\" scale=\"0\" multiplier=\"1\"/>\\n        </listOfUnits>\\n      </unitDefinition>\\n      <unitDefinition id=\"volume\">\\n        <listOfUnits>\\n          <unit kind=\"litre\" exponent=\"1\" scale=\"0\" multiplier=\"1\"/>\\n        </listOfUnits>\\n      </unitDefinition>\\n    </listOfUnitDefinitions>\\n    <listOfCompartments>\\n      <compartment id=\"cell\" spatialDimensions=\"3\" size=\"1\" constant=\"true\"/>\\n    </listOfCompartments>\\n    <listOfSpecies>\\n      <species id=\"cL_m\" compartment=\"cell\" initialConcentration=\"0.0359335388215536\" hasOnlySubstanceUnits=\"false\" boundaryCondition=\"false\" constant=\"false\"/>\\n      <species id=\"cL\" compartment=\"cell\" initialConcentration=\"0.0742313694717752\" hasOnlySubstanceUnits=\"false\" boundaryCondition=\"false\" constant=\"false\"/>\\n      <species id=\"cLmod\" compartment=\"cell\" initialConcentration=\"0.0264493060997695\" hasOnlySubstanceUnits=\"false\" boundaryCondition=\"false\" constant=\"false\"/>\\n      <species id=\"cP\" compartment=\"cell\" initialConcentration=\"3.32734560915405e-209\" hasOnlySubstanceUnits=\"false\" boundaryCondition=\"false\" constant=\"false\"/>\\n      <species id=\"cP9_m\" compartment=\"cell\" initialConcentration=\"0.00030883494902405\" hasOnlySubstanceUnits=\"false\" boundaryCondition=\"false\" constant=\"false\"/>\\n      <species id=\"cP9\" compartment=\"cell\" initialConcentration=\"0.00725203854824796\" hasOnlySubstanceUnits=\"false\" boundaryCondition=\"false\" constant=\"false\"/>\\n      <species id=\"cP7_m\" compartment=\"cell\" initialConcentration=\"0.319661246247897\" hasOnlySubstanceUnits=\"false\" boundaryCondition=\"false\" constant=\"false\"/>\\n      <species id=\"cP7\" compartment=\"cell\" initialConcentration=\"0.609799204484332\" hasOnlySubstanceUnits=\"false\" boundaryCondition=\"false\" constant=\"false\"/>\\n      <species id=\"cP5_m\" compartment=\"cell\" initialConcentration=\"0.0362535793513859\" hasOnlySubstanceUnits=\"false\" boundaryCondition=\"false\" constant=\"false\"/>\\n      <species id=\"cP5\" compartment=\"cell\" initialConcentration=\"0.156545098276963\" hasOnlySubstanceUnits=\"false\" boundaryCondition=\"false\" constant=\"false\"/>\\n      <species id=\"cT_m\" compartment=\"cell\" initialConcentration=\"0.425225276949522\" hasOnlySubstanceUnits=\"false\" boundaryCondition=\"false\" constant=\"false\"/>\\n      <species id=\"cT\" compartment=\"cell\" initialConcentration=\"0.614994493561132\" hasOnlySubstanceUnits=\"false\" boundaryCondition=\"false\" constant=\"false\"/>\\n      <species id=\"cE4_m\" compartment=\"cell\" initialConcentration=\"1.00198211880041\" hasOnlySubstanceUnits=\"false\" boundaryCondition=\"false\" constant=\"false\"/>\\n      <species id=\"cE4\" compartment=\"cell\" initialConcentration=\"1.71305251228305\" hasOnlySubstanceUnits=\"false\" boundaryCondition=\"false\" constant=\"false\"/>\\n      <species id=\"cE3_m\" compartment=\"cell\" initialConcentration=\"0.776275860340074\" hasOnlySubstanceUnits=\"false\" boundaryCondition=\"false\" constant=\"false\"/>\\n      <species id=\"cE3c\" compartment=\"cell\" initialConcentration=\"0.225749663058059\" hasOnlySubstanceUnits=\"false\" boundaryCondition=\"false\" constant=\"false\"/>\\n      <species id=\"cE3n\" compartment=\"cell\" initialConcentration=\"0.012316571914747\" hasOnlySubstanceUnits=\"false\" boundaryCondition=\"false\" constant=\"false\"/>\\n      <species id=\"cLUX_m\" compartment=\"cell\" initialConcentration=\"1.00198211880041\" hasOnlySubstanceUnits=\"false\" boundaryCondition=\"false\" constant=\"false\"/>\\n      <species id=\"cLUX\" compartment=\"cell\" initialConcentration=\"11.0948506520581\" hasOnlySubstanceUnits=\"false\" boundaryCondition=\"false\" constant=\"false\"/>\\n      <species id=\"cCOP1c\" compartment=\"cell\" initialConcentration=\"0.23\" hasOnlySubstanceUnits=\"false\" boundaryCondition=\"false\" constant=\"false\"/>\\n      <species id=\"cCOP1n\" compartment=\"cell\" initialConcentration=\"0.276\" hasOnlySubstanceUnits=\"false\" boundaryCondition=\"false\" constant=\"false\"/>\\n      <species id=\"cCOP1d\" compartment=\"cell\" initialConcentration=\"0.0920000000000001\" hasOnlySubstanceUnits=\"false\" boundaryCondition=\"false\" constant=\"false\"/>\\n      <species id=\"cEGc\" compartment=\"cell\" initialConcentration=\"0.229607491794162\" hasOnlySubstanceUnits=\"false\" boundaryCondition=\"false\" constant=\"false\"/>\\n      <species id=\"cEC\" compartment=\"cell\" initialConcentration=\"0.159907370813051\" hasOnlySubstanceUnits=\"false\" boundaryCondition=\"false\" constant=\"false\"/>\\n      <species id=\"cZTL\" compartment=\"cell\" initialConcentration=\"0.0347101756107509\" hasOnlySubstanceUnits=\"false\" boundaryCondition=\"false\" constant=\"false\"/>\\n      <species id=\"cZG\" compartment=\"cell\" initialConcentration=\"6.51620450218881\" hasOnlySubstanceUnits=\"false\" boundaryCondition=\"false\" constant=\"false\"/>\\n      <species id=\"cG_m\" compartment=\"cell\" initialConcentration=\"0.410920285435536\" hasOnlySubstanceUnits=\"false\" boundaryCondition=\"false\" constant=\"false\"/>\\n      <species id=\"cGc\" compartment=\"cell\" initialConcentration=\"0.0221621337239421\" hasOnlySubstanceUnits=\"false\" boundaryCondition=\"false\" constant=\"false\"/>\\n      <species id=\"cGn\" compartment=\"cell\" initialConcentration=\"0.0433532112098327\" hasOnlySubstanceUnits=\"false\" boundaryCondition=\"false\" constant=\"false\"/>\\n      <species id=\"cEGn\" compartment=\"cell\" initialConcentration=\"0.0150401622488514\" hasOnlySubstanceUnits=\"false\" boundaryCondition=\"false\" constant=\"false\"/>\\n      <species id=\"cE34\" compartment=\"cell\" initialConcentration=\"0.321176033550425\" hasOnlySubstanceUnits=\"false\" boundaryCondition=\"false\" constant=\"false\"/>\\n    </listOfSpecies>\\n    <listOfParameters>\\n      <parameter id=\"cGn_tot\" value=\"0.0583933734586841\" constant=\"false\"/>\\n      <parameter id=\"q1\" value=\"0.841496832798375\" constant=\"true\"/>\\n      <parameter id=\"L\" value=\"1\" constant=\"false\"/>\\n      <parameter id=\"gml\" value=\"240.398303427109\" constant=\"true\"/>\\n      <parameter id=\"n1\" value=\"0.781537894237397\" constant=\"true\"/>\\n      <parameter id=\"g1\" value=\"0.260262671636261\" constant=\"true\"/>\\n      <parameter id=\"m1\" value=\"0.545986246550687\" constant=\"true\"/>\\n      <parameter id=\"m2\" value=\"0.0348915059069121\" constant=\"true\"/>\\n      <parameter id=\"p2\" value=\"0.205149252517579\" constant=\"true\"/>\\n      <parameter id=\"p1\" value=\"0.188149760634004\" constant=\"true\"/>\\n      <parameter id=\"m3\" value=\"0.180150268894767\" constant=\"true\"/>\\n      <parameter id=\"p3\" value=\"0.206572923479941\" constant=\"true\"/>\\n      <parameter id=\"g3\" value=\"0.812100418723142\" constant=\"true\"/>\\n      <parameter id=\"p7\" value=\"0.3\" constant=\"true\"/>\\n      <parameter id=\"m11\" value=\"1\" constant=\"true\"/>\\n      <parameter id=\"n13\" value=\"2.15701904394954\" constant=\"true\"/>\\n      <parameter id=\"g2\" value=\"0.0337228841982393\" constant=\"true\"/>\\n      <parameter id=\"g6\" value=\"0.198367740421444\" constant=\"true\"/>\\n      <parameter id=\"gm4\" value=\"59.1001965740934\" constant=\"true\"/>\\n      <parameter id=\"m34\" value=\"0.589508600668093\" constant=\"true\"/>\\n      <parameter id=\"p23\" value=\"0.438860884942515\" constant=\"true\"/>\\n      <parameter id=\"m35\" value=\"0.249529832531924\" constant=\"true\"/>\\n      <parameter id=\"p25\" value=\"210.643342589118\" constant=\"true\"/>\\n      <parameter id=\"p21\" value=\"12.7288312134645\" constant=\"true\"/>\\n      <parameter id=\"n3\" value=\"0.43932853895905\" constant=\"true\"/>\\n      <parameter id=\"g16\" value=\"0.203345279729513\" constant=\"true\"/>\\n      <parameter id=\"gm3\" value=\"37.4270777543611\" constant=\"true\"/>\\n      <parameter id=\"m26\" value=\"0.478272544293594\" constant=\"true\"/>\\n      <parameter id=\"p16\" value=\"1.64352128180098\" constant=\"true\"/>\\n      <parameter id=\"m9\" value=\"7.58125093308965\" constant=\"true\"/>\\n      <parameter id=\"p17\" value=\"67.7534755782796\" constant=\"true\"/>\\n      <parameter id=\"p19\" value=\"2.22496033315838\" constant=\"true\"/>\\n      <parameter id=\"p20\" value=\"0.0799111037052215\" constant=\"true\"/>\\n      <parameter id=\"m30\" value=\"2.96975466386422\" constant=\"true\"/>\\n      <parameter id=\"m29\" value=\"29.3083301449758\" constant=\"true\"/>\\n      <parameter id=\"p27\" value=\"4.55363328728867\" constant=\"true\"/>\\n      <parameter id=\"m39\" value=\"0.545909193390194\" constant=\"true\"/>\\n      <parameter id=\"p26\" value=\"0.0606233164234201\" constant=\"true\"/>\\n      <parameter id=\"n5\" value=\"0.23\" constant=\"true\"/>\\n      <parameter id=\"p6\" value=\"0.6\" constant=\"true\"/>\\n      <parameter id=\"m27\" value=\"0.1\" constant=\"true\"/>\\n      <parameter id=\"p15\" value=\"3\" constant=\"true\"/>\\n      <parameter id=\"n6\" value=\"20\" constant=\"true\"/>\\n      <parameter id=\"n14\" value=\"0.1\" constant=\"true\"/>\\n      <parameter id=\"m31\" value=\"0.3\" constant=\"true\"/>\\n      <parameter id=\"m33\" value=\"13\" constant=\"true\"/>\\n      <parameter id=\"p18\" value=\"0.0749639101091455\" constant=\"true\"/>\\n      <parameter id=\"p31\" value=\"0.161869022422106\" constant=\"true\"/>\\n      <parameter id=\"m36\" value=\"0.15148834296834\" constant=\"true\"/>\\n      <parameter id=\"m37\" value=\"1.05441645149131\" constant=\"true\"/>\\n      <parameter id=\"m32\" value=\"0.0892436820472363\" constant=\"true\"/>\\n      <parameter id=\"p24\" value=\"19.6006405914063\" constant=\"true\"/>\\n      <parameter id=\"g7\" value=\"0.0779586173491793\" constant=\"true\"/>\\n      <parameter id=\"p14\" value=\"0.383205740023471\" constant=\"true\"/>\\n      <parameter id=\"p12\" value=\"152.151909593701\" constant=\"true\"/>\\n      <parameter id=\"p13\" value=\"0.0205239128182747\" constant=\"true\"/>\\n      <parameter id=\"m20\" value=\"7.4876290519116\" constant=\"true\"/>\\n      <parameter id=\"m21\" value=\"0.0252983808092898\" constant=\"true\"/>\\n      <parameter id=\"q2\" value=\"2.02267827330258\" constant=\"true\"/>\\n      <parameter id=\"gmg\" value=\"71.231512461066\" constant=\"true\"/>\\n      <parameter id=\"n12\" value=\"17.4449066870199\" constant=\"true\"/>\\n      <parameter id=\"g14\" value=\"0.0137633831764236\" constant=\"true\"/>\\n      <parameter id=\"g15\" value=\"0.258817200723681\" constant=\"true\"/>\\n      <parameter id=\"m18\" value=\"3.55712358040821\" constant=\"true\"/>\\n      <parameter id=\"p11\" value=\"1.71333174735382\" constant=\"true\"/>\\n      <parameter id=\"m19\" value=\"3.86179635322545\" constant=\"true\"/>\\n      <parameter id=\"p28\" value=\"8.21289361706873\" constant=\"true\"/>\\n      <parameter id=\"p29\" value=\"0.160497453516939\" constant=\"true\"/>\\n      <parameter id=\"m10\" value=\"16.3714361213747\" constant=\"true\"/>\\n      <parameter id=\"q3t\" value=\"1.90671460103782\" constant=\"true\"/>\\n      <parameter id=\"gm9\" value=\"69.5228161130992\" constant=\"true\"/>\\n      <parameter id=\"nt1\" value=\"0.0998517164980201\" constant=\"true\"/>\\n      <parameter id=\"g1t\" value=\"0.821319616223297\" constant=\"true\"/>\\n      <parameter id=\"at1\" value=\"0.0145508339328512\" constant=\"true\"/>\\n      <parameter id=\"g2t\" value=\"30.3011239547852\" constant=\"true\"/>\\n      <parameter id=\"g3t\" value=\"0.00207375110682441\" constant=\"true\"/>\\n      <parameter id=\"g4t\" value=\"0.161768051272999\" constant=\"true\"/>\\n      <parameter id=\"m1t\" value=\"0.422681654112834\" constant=\"true\"/>\\n      <parameter id=\"p1t\" value=\"5.1596397985342\" constant=\"true\"/>\\n      <parameter id=\"mp1t\" value=\"0.387257254037416\" constant=\"true\"/>\\n      <parameter id=\"nt2\" value=\"55.2573684368903\" constant=\"true\"/>\\n      <parameter id=\"g5t\" value=\"43.2617948134786\" constant=\"true\"/>\\n      <parameter id=\"g6t\" value=\"0.0134238392658725\" constant=\"true\"/>\\n      <parameter id=\"g7t\" value=\"0.069097239401026\" constant=\"true\"/>\\n      <parameter id=\"gm7\" value=\"36.7151458774324\" constant=\"true\"/>\\n      <parameter id=\"m2t\" value=\"0.267167827929817\" constant=\"true\"/>\\n      <parameter id=\"p2t\" value=\"1.57145956353351\" constant=\"true\"/>\\n      <parameter id=\"mp2t\" value=\"0.970505131185091\" constant=\"true\"/>\\n      <parameter id=\"mp3t\" value=\"21.0523737913589\" constant=\"true\"/>\\n      <parameter id=\"nt3\" value=\"7.24525113742064\" constant=\"true\"/>\\n      <parameter id=\"g8t\" value=\"0.0624029497515538\" constant=\"true\"/>\\n      <parameter id=\"at2\" value=\"3.64830250545861\" constant=\"true\"/>\\n      <parameter id=\"g9t\" value=\"0.650562915708941\" constant=\"true\"/>\\n      <parameter id=\"g10t\" value=\"0.0583886862165768\" constant=\"true\"/>\\n      <parameter id=\"g11t\" value=\"0.280930632192885\" constant=\"true\"/>\\n      <parameter id=\"gm5\" value=\"10.8150058471228\" constant=\"true\"/>\\n      <parameter id=\"m3t\" value=\"16.5444092090597\" constant=\"true\"/>\\n      <parameter id=\"p3t\" value=\"0.654170928188466\" constant=\"true\"/>\\n      <parameter id=\"mp4t\" value=\"0.379807008904375\" constant=\"true\"/>\\n      <parameter id=\"mp5t\" value=\"0.000624112146399548\" constant=\"true\"/>\\n      <parameter id=\"nt4\" value=\"0.303775822913661\" constant=\"true\"/>\\n      <parameter id=\"g12t\" value=\"8.16569161154828\" constant=\"true\"/>\\n      <parameter id=\"at3\" value=\"5.52171185226064\" constant=\"true\"/>\\n      <parameter id=\"g13t\" value=\"0.196249829958496\" constant=\"true\"/>\\n      <parameter id=\"g14t\" value=\"0.0282123850038074\" constant=\"true\"/>\\n      <parameter id=\"g15t\" value=\"35.4481190477711\" constant=\"true\"/>\\n      <parameter id=\"gmt\" value=\"98.7139386452086\" constant=\"true\"/>\\n      <parameter id=\"m4t\" value=\"0.219512108071675\" constant=\"true\"/>\\n      <parameter id=\"p4t\" value=\"1.30511179558745\" constant=\"true\"/>\\n      <parameter id=\"mp6t\" value=\"0.0894668226586183\" constant=\"true\"/>\\n      <parameter id=\"mp7t\" value=\"0.0544308845014331\" constant=\"true\"/>\\n      <parameter id=\"p5t\" value=\"2.06288561051429\" constant=\"true\"/>\\n      <parameter id=\"mp8t\" value=\"0.401184816501549\" constant=\"true\"/>\\n    </listOfParameters>\\n    <listOfRules>\\n      <assignmentRule variable=\"cGn_tot\">\\n        <math xmlns=\"http://www.w3.org/1998/Math/MathML\">\\n          <apply>\\n            <plus/>\\n            <ci> cGn </ci>\\n            <ci> cEGn </ci>\\n          </apply>\\n        </math>\\n      </assignmentRule>\\n    </listOfRules>\\n    <listOfReactions>\\n      <reaction id=\"cL_m_trscr\" reversible=\"false\" fast=\"false\">\\n        <listOfProducts>\\n          <speciesReference species=\"cL_m\" stoichiometry=\"1\" constant=\"true\"/>\\n        </listOfProducts>\\n        <listOfModifiers>\\n          <modifierSpeciesReference species=\"cT\"/>\\n          <modifierSpeciesReference species=\"cP5\"/>\\n          <modifierSpeciesReference species=\"cP\"/>\\n          <modifierSpeciesReference species=\"cP9\"/>\\n          <modifierSpeciesReference species=\"cP7\"/>\\n        </listOfModifiers>\\n        <kineticLaw>\\n          <math xmlns=\"http://www.w3.org/1998/Math/MathML\">\\n            <apply>\\n              <times/>\\n              <ci> cell </ci>\\n              <apply>\\n                <minus/>\\n                <apply>\\n                  <plus/>\\n                  <apply>\\n                    <times/>\\n                    <ci> q1 </ci>\\n                    <ci> L </ci>\\n                    <ci> cP </ci>\\n                    <ci> gml </ci>\\n                  </apply>\\n                  <apply>\\n                    <times/>\\n                    <apply>\\n                      <divide/>\\n                      <apply>\\n                        <times/>\\n                        <ci> n1 </ci>\\n                        <apply>\\n                          <power/>\\n                          <ci> g1 </ci>\\n                          <cn type=\"integer\"> 2 </cn>\\n                        </apply>\\n                      </apply>\\n                      <apply>\\n                        <plus/>\\n                        <apply>\\n                          <power/>\\n                          <ci> g1 </ci>\\n                          <cn type=\"integer\"> 2 </cn>\\n                        </apply>\\n                        <apply>\\n                          <power/>\\n                          <apply>\\n                            <plus/>\\n                            <ci> cP9 </ci>\\n                            <ci> cP7 </ci>\\n                            <ci> cP5 </ci>\\n                            <ci> cT </ci>\\n                          </apply>\\n                          <cn type=\"integer\"> 2 </cn>\\n                        </apply>\\n                      </apply>\\n                    </apply>\\n                    <ci> gml </ci>\\n                  </apply>\\n                </apply>\\n                <apply>\\n                  <times/>\\n                  <apply>\\n                    <plus/>\\n                    <apply>\\n                      <times/>\\n                      <ci> m1 </ci>\\n                      <ci> L </ci>\\n                    </apply>\\n                    <apply>\\n                      <times/>\\n                      <ci> m2 </ci>\\n                      <apply>\\n                        <minus/>\\n                        <cn type=\"integer\"> 1 </cn>\\n                        <ci> L </ci>\\n                      </apply>\\n                    </apply>\\n                  </apply>\\n                  <ci> cL_m </ci>\\n                </apply>\\n              </apply>\\n            </apply>\\n          </math>\\n        </kineticLaw>\\n      </reaction>\\n      <reaction id=\"cL_m_trans\" reversible=\"false\" fast=\"false\">\\n        <listOfProducts>\\n          <speciesReference species=\"cL\" stoichiometry=\"1\" constant=\"true\"/>\\n        </listOfProducts>\\n        <listOfModifiers>\\n          <modifierSpeciesReference species=\"cL_m\"/>\\n        </listOfModifiers>\\n        <kineticLaw>\\n          <math xmlns=\"http://www.w3.org/1998/Math/MathML\">\\n            <apply>\\n              <times/>\\n              <ci> cell </ci>\\n              <apply>\\n                <minus/>\\n                <apply>\\n                  <minus/>\\n                  <apply>\\n                    <divide/>\\n                    <apply>\\n                      <times/>\\n                      <apply>\\n                        <plus/>\\n                        <ci> p2 </ci>\\n                        <apply>\\n                          <times/>\\n                          <ci> p1 </ci>\\n                          <ci> L </ci>\\n                        </apply>\\n                      </apply>\\n                      <ci> cL_m </ci>\\n                    </apply>\\n                    <ci> gml </ci>\\n                  </apply>\\n                  <apply>\\n                    <times/>\\n                    <ci> m3 </ci>\\n                    <ci> cL </ci>\\n                  </apply>\\n                </apply>\\n                <apply>\\n                  <divide/>\\n                  <apply>\\n                    <times/>\\n                    <ci> p3 </ci>\\n                    <apply>\\n                      <power/>\\n                      <ci> cL </ci>\\n                      <cn type=\"integer\"> 2 </cn>\\n                    </apply>\\n                  </apply>\\n                  <apply>\\n                    <plus/>\\n                    <apply>\\n                      <power/>\\n                      <ci> cL </ci>\\n                      <cn type=\"integer\"> 2 </cn>\\n                    </apply>\\n                    <apply>\\n                      <power/>\\n                      <ci> g3 </ci>\\n                      <cn type=\"integer\"> 2 </cn>\\n                    </apply>\\n                  </apply>\\n                </apply>\\n              </apply>\\n            </apply>\\n          </math>\\n        </kineticLaw>\\n      </reaction>\\n      <reaction id=\"cL_mod_pro\" reversible=\"false\" fast=\"false\">\\n        <listOfProducts>\\n          <speciesReference species=\"cLmod\" stoichiometry=\"1\" constant=\"true\"/>\\n        </listOfProducts>\\n        <listOfModifiers>\\n          <modifierSpeciesReference species=\"cL\"/>\\n        </listOfModifiers>\\n        <kineticLaw>\\n          <math xmlns=\"http://www.w3.org/1998/Math/MathML\">\\n            <apply>\\n              <times/>\\n              <ci> cell </ci>\\n              <apply>\\n                <minus/>\\n                <apply>\\n                  <divide/>\\n                  <apply>\\n                    <times/>\\n                    <ci> p3 </ci>\\n                    <apply>\\n                      <power/>\\n                      <ci> cL </ci>\\n                      <cn type=\"integer\"> 2 </cn>\\n                    </apply>\\n                  </apply>\\n                  <apply>\\n                    <plus/>\\n                    <apply>\\n                      <power/>\\n                      <ci> cL </ci>\\n                      <cn type=\"integer\"> 2 </cn>\\n                    </apply>\\n                    <apply>\\n                      <power/>\\n                      <ci> g3 </ci>\\n                      <cn type=\"integer\"> 2 </cn>\\n                    </apply>\\n                  </apply>\\n                </apply>\\n                <apply>\\n                  <times/>\\n                  <ci> m3 </ci>\\n                  <ci> cLmod </ci>\\n                </apply>\\n              </apply>\\n            </apply>\\n          </math>\\n        </kineticLaw>\\n      </reaction>\\n      <reaction id=\"cP_prod\" reversible=\"false\" fast=\"false\">\\n        <listOfProducts>\\n          <speciesReference species=\"cP\" stoichiometry=\"1\" constant=\"true\"/>\\n        </listOfProducts>\\n        <kineticLaw>\\n          <math xmlns=\"http://www.w3.org/1998/Math/MathML\">\\n            <apply>\\n              <times/>\\n              <ci> cell </ci>\\n              <apply>\\n                <minus/>\\n                <apply>\\n                  <times/>\\n                  <ci> p7 </ci>\\n                  <apply>\\n                    <minus/>\\n                    <cn type=\"integer\"> 1 </cn>\\n                    <ci> L </ci>\\n                  </apply>\\n                  <apply>\\n                    <minus/>\\n                    <cn type=\"integer\"> 1 </cn>\\n                    <ci> cP </ci>\\n                  </apply>\\n                </apply>\\n                <apply>\\n                  <times/>\\n                  <ci> m11 </ci>\\n                  <ci> cP </ci>\\n                  <ci> L </ci>\\n                </apply>\\n              </apply>\\n            </apply>\\n          </math>\\n        </kineticLaw>\\n      </reaction>\\n      <reaction id=\"cE4_trscr\" reversible=\"false\" fast=\"false\">\\n        <listOfProducts>\\n          <speciesReference species=\"cE4_m\" stoichiometry=\"1\" constant=\"true\"/>\\n        </listOfProducts>\\n        <listOfModifiers>\\n          <modifierSpeciesReference species=\"cL\"/>\\n          <modifierSpeciesReference species=\"cEC\"/>\\n        </listOfModifiers>\\n        <kineticLaw>\\n          <math xmlns=\"http://www.w3.org/1998/Math/MathML\">\\n            <apply>\\n              <times/>\\n              <ci> cell </ci>\\n              <apply>\\n                <minus/>\\n                <apply>\\n                  <times/>\\n                  <apply>\\n                    <divide/>\\n                    <apply>\\n                      <times/>\\n                      <apply>\\n                        <divide/>\\n                        <apply>\\n                          <times/>\\n                          <ci> n13 </ci>\\n                          <ci> g2 </ci>\\n                        </apply>\\n                        <apply>\\n                          <plus/>\\n                          <ci> g2 </ci>\\n                          <ci> cEC </ci>\\n                        </apply>\\n                      </apply>\\n                      <apply>\\n                        <power/>\\n                        <ci> g6 </ci>\\n                        <cn type=\"integer\"> 2 </cn>\\n                      </apply>\\n                    </apply>\\n                    <apply>\\n                      <plus/>\\n                      <apply>\\n                        <power/>\\n                        <ci> g6 </ci>\\n                        <cn type=\"integer\"> 2 </cn>\\n                      </apply>\\n                      <apply>\\n                        <power/>\\n                        <ci> cL </ci>\\n                        <cn type=\"integer\"> 2 </cn>\\n                      </apply>\\n                    </apply>\\n                  </apply>\\n                  <ci> gm4 </ci>\\n                </apply>\\n                <apply>\\n                  <times/>\\n                  <ci> m34 </ci>\\n                  <ci> cE4_m </ci>\\n                </apply>\\n              </apply>\\n            </apply>\\n          </math>\\n        </kineticLaw>\\n      </reaction>\\n      <reaction id=\"cE4_trans\" reversible=\"false\" fast=\"false\">\\n        <listOfProducts>\\n          <speciesReference species=\"cE4\" stoichiometry=\"1\" constant=\"true\"/>\\n        </listOfProducts>\\n        <listOfModifiers>\\n          <modifierSpeciesReference species=\"cE4_m\"/>\\n          <modifierSpeciesReference species=\"cE3n\"/>\\n          <modifierSpeciesReference species=\"cE34\"/>\\n        </listOfModifiers>\\n        <kineticLaw>\\n          <math xmlns=\"http://www.w3.org/1998/Math/MathML\">\\n            <apply>\\n              <times/>\\n              <ci> cell </ci>\\n              <apply>\\n                <plus/>\\n                <apply>\\n                  <minus/>\\n                  <apply>\\n                    <minus/>\\n                    <apply>\\n                      <divide/>\\n                      <apply>\\n                        <times/>\\n                        <ci> p23 </ci>\\n                        <ci> cE4_m </ci>\\n                      </apply>\\n                      <ci> gm4 </ci>\\n                    </apply>\\n                    <apply>\\n                      <times/>\\n                      <ci> m35 </ci>\\n                      <ci> cE4 </ci>\\n                    </apply>\\n                  </apply>\\n                  <apply>\\n                    <times/>\\n                    <ci> p25 </ci>\\n                    <ci> cE4 </ci>\\n                    <ci> cE3n </ci>\\n                  </apply>\\n                </apply>\\n                <apply>\\n                  <times/>\\n                  <ci> p21 </ci>\\n                  <ci> cE34 </ci>\\n                </apply>\\n              </apply>\\n            </apply>\\n          </math>\\n        </kineticLaw>\\n      </reaction>\\n      <reaction id=\"cE3_trscr\" reversible=\"false\" fast=\"false\">\\n        <listOfProducts>\\n          <speciesReference species=\"cE3_m\" stoichiometry=\"1\" constant=\"true\"/>\\n        </listOfProducts>\\n        <listOfModifiers>\\n          <modifierSpeciesReference species=\"cL\"/>\\n        </listOfModifiers>\\n        <kineticLaw>\\n          <math xmlns=\"http://www.w3.org/1998/Math/MathML\">\\n            <apply>\\n              <times/>\\n              <ci> cell </ci>\\n              <apply>\\n                <minus/>\\n                <apply>\\n                  <times/>\\n                  <apply>\\n                    <divide/>\\n                    <apply>\\n                      <times/>\\n                      <ci> n3 </ci>\\n                      <apply>\\n                        <power/>\\n                        <ci> g16 </ci>\\n                        <cn type=\"integer\"> 2 </cn>\\n                      </apply>\\n                    </apply>\\n                    <apply>\\n                      <plus/>\\n                      <apply>\\n                        <power/>\\n                        <ci> g16 </ci>\\n                        <cn type=\"integer\"> 2 </cn>\\n                      </apply>\\n                      <apply>\\n                        <power/>\\n                        <ci> cL </ci>\\n                        <cn type=\"integer\"> 2 </cn>\\n                      </apply>\\n                    </apply>\\n                  </apply>\\n                  <ci> gm3 </ci>\\n                </apply>\\n                <apply>\\n                  <times/>\\n                  <ci> m26 </ci>\\n                  <ci> cE3_m </ci>\\n                </apply>\\n              </apply>\\n            </apply>\\n          </math>\\n        </kineticLaw>\\n      </reaction>\\n      <reaction id=\"cE3c_trans\" reversible=\"false\" fast=\"false\">\\n        <listOfProducts>\\n          <speciesReference species=\"cE3c\" stoichiometry=\"1\" constant=\"true\"/>\\n        </listOfProducts>\\n        <listOfModifiers>\\n          <modifierSpeciesReference species=\"cE3n\"/>\\n          <modifierSpeciesReference species=\"cE3_m\"/>\\n          <modifierSpeciesReference species=\"cGc\"/>\\n          <modifierSpeciesReference species=\"cCOP1c\"/>\\n        </listOfModifiers>\\n        <kineticLaw>\\n          <math xmlns=\"http://www.w3.org/1998/Math/MathML\">\\n            <apply>\\n              <times/>\\n              <ci> cell </ci>\\n              <apply>\\n                <plus/>\\n                <apply>\\n                  <minus/>\\n                  <apply>\\n                    <minus/>\\n                    <apply>\\n                      <minus/>\\n                      <apply>\\n                        <divide/>\\n                        <apply>\\n                          <times/>\\n                          <ci> p16 </ci>\\n                          <ci> cE3_m </ci>\\n                        </apply>\\n                        <ci> gm3 </ci>\\n                      </apply>\\n                      <apply>\\n                        <times/>\\n                        <ci> m9 </ci>\\n                        <ci> cE3c </ci>\\n                        <ci> cCOP1c </ci>\\n                      </apply>\\n                    </apply>\\n                    <apply>\\n                      <times/>\\n                      <ci> p17 </ci>\\n                      <ci> cE3c </ci>\\n                      <ci> cGc </ci>\\n                    </apply>\\n                  </apply>\\n                  <apply>\\n                    <times/>\\n                    <ci> p19 </ci>\\n                    <ci> cE3c </ci>\\n                  </apply>\\n                </apply>\\n                <apply>\\n                  <times/>\\n                  <ci> p20 </ci>\\n                  <ci> cE3n </ci>\\n                </apply>\\n              </apply>\\n            </apply>\\n          </math>\\n        </kineticLaw>\\n      </reaction>\\n      <reaction id=\"cE3n_trans\" reversible=\"false\" fast=\"false\">\\n        <listOfProducts>\\n          <speciesReference species=\"cE3n\" stoichiometry=\"1\" constant=\"true\"/>\\n        </listOfProducts>\\n        <listOfModifiers>\\n          <modifierSpeciesReference species=\"cGn\"/>\\n          <modifierSpeciesReference species=\"cCOP1n\"/>\\n          <modifierSpeciesReference species=\"cE3c\"/>\\n          <modifierSpeciesReference species=\"cE4\"/>\\n          <modifierSpeciesReference species=\"cE34\"/>\\n          <modifierSpeciesReference species=\"cCOP1d\"/>\\n        </listOfModifiers>\\n        <kineticLaw>\\n          <math xmlns=\"http://www.w3.org/1998/Math/MathML\">\\n            <apply>\\n              <times/>\\n              <ci> cell </ci>\\n              <apply>\\n                <minus/>\\n                <apply>\\n                  <plus/>\\n                  <apply>\\n                    <minus/>\\n                    <apply>\\n                      <minus/>\\n                      <apply>\\n                        <minus/>\\n                        <apply>\\n                          <minus/>\\n                          <apply>\\n                            <times/>\\n                            <ci> p19 </ci>\\n                            <ci> cE3c </ci>\\n                          </apply>\\n                          <apply>\\n                            <times/>\\n                            <ci> p20 </ci>\\n                            <ci> cE3n </ci>\\n                          </apply>\\n                        </apply>\\n                        <apply>\\n                          <times/>\\n                          <ci> p17 </ci>\\n                          <ci> cE3n </ci>\\n                          <ci> cGn </ci>\\n                        </apply>\\n                      </apply>\\n                      <apply>\\n                        <times/>\\n                        <ci> m30 </ci>\\n                        <ci> cE3n </ci>\\n                        <ci> cCOP1d </ci>\\n                      </apply>\\n                    </apply>\\n                    <apply>\\n                      <times/>\\n                      <ci> m29 </ci>\\n                      <ci> cE3n </ci>\\n                      <ci> cCOP1n </ci>\\n                    </apply>\\n                  </apply>\\n                  <apply>\\n                    <times/>\\n                    <ci> p21 </ci>\\n                    <ci> cE34 </ci>\\n                  </apply>\\n                </apply>\\n                <apply>\\n                  <times/>\\n                  <ci> p25 </ci>\\n                  <ci> cE4 </ci>\\n                  <ci> cE3n </ci>\\n                </apply>\\n              </apply>\\n            </apply>\\n          </math>\\n        </kineticLaw>\\n      </reaction>\\n      <reaction id=\"cLUX_trscr\" reversible=\"false\" fast=\"false\">\\n        <listOfProducts>\\n          <speciesReference species=\"cLUX_m\" stoichiometry=\"1\" constant=\"true\"/>\\n        </listOfProducts>\\n        <listOfModifiers>\\n          <modifierSpeciesReference species=\"cL\"/>\\n          <modifierSpeciesReference species=\"cEC\"/>\\n        </listOfModifiers>\\n        <kineticLaw>\\n          <math xmlns=\"http://www.w3.org/1998/Math/MathML\">\\n            <apply>\\n              <times/>\\n              <ci> cell </ci>\\n              <apply>\\n                <minus/>\\n                <apply>\\n                  <times/>\\n                  <apply>\\n                    <divide/>\\n                    <apply>\\n                      <times/>\\n                      <apply>\\n                        <divide/>\\n                        <apply>\\n                          <times/>\\n                          <ci> n13 </ci>\\n                          <ci> g2 </ci>\\n                        </apply>\\n                        <apply>\\n                          <plus/>\\n                          <ci> g2 </ci>\\n                          <ci> cEC </ci>\\n                        </apply>\\n                      </apply>\\n                      <apply>\\n                        <power/>\\n                        <ci> g6 </ci>\\n                        <cn type=\"integer\"> 2 </cn>\\n                      </apply>\\n                    </apply>\\n                    <apply>\\n                      <plus/>\\n                      <apply>\\n                        <power/>\\n                        <ci> g6 </ci>\\n                        <cn type=\"integer\"> 2 </cn>\\n                      </apply>\\n                      <apply>\\n                        <power/>\\n                        <ci> cL </ci>\\n                        <cn type=\"integer\"> 2 </cn>\\n                      </apply>\\n                    </apply>\\n                  </apply>\\n                  <ci> gm4 </ci>\\n                </apply>\\n                <apply>\\n                  <times/>\\n                  <ci> m34 </ci>\\n                  <ci> cLUX_m </ci>\\n                </apply>\\n              </apply>\\n            </apply>\\n          </math>\\n        </kineticLaw>\\n      </reaction>\\n      <reaction id=\"cLUX_trans\" reversible=\"false\" fast=\"false\">\\n        <listOfProducts>\\n          <speciesReference species=\"cLUX\" stoichiometry=\"1\" constant=\"true\"/>\\n        </listOfProducts>\\n        <listOfModifiers>\\n          <modifierSpeciesReference species=\"cLUX_m\"/>\\n          <modifierSpeciesReference species=\"cE34\"/>\\n        </listOfModifiers>\\n        <kineticLaw>\\n          <math xmlns=\"http://www.w3.org/1998/Math/MathML\">\\n            <apply>\\n              <times/>\\n              <ci> cell </ci>\\n              <apply>\\n                <minus/>\\n                <apply>\\n                  <minus/>\\n                  <apply>\\n                    <divide/>\\n                    <apply>\\n                      <times/>\\n                      <ci> p27 </ci>\\n                      <ci> cLUX_m </ci>\\n                    </apply>\\n                    <ci> gm4 </ci>\\n                  </apply>\\n                  <apply>\\n                    <times/>\\n                    <ci> m39 </ci>\\n                    <ci> cLUX </ci>\\n                  </apply>\\n                </apply>\\n                <apply>\\n                  <times/>\\n                  <ci> p26 </ci>\\n                  <ci> cLUX </ci>\\n                  <ci> cE34 </ci>\\n                </apply>\\n              </apply>\\n            </apply>\\n          </math>\\n        </kineticLaw>\\n      </reaction>\\n      <reaction id=\"cCOP1c_prod\" reversible=\"false\" fast=\"false\">\\n        <listOfProducts>\\n          <speciesReference species=\"cCOP1c\" stoichiometry=\"1\" constant=\"true\"/>\\n        </listOfProducts>\\n        <kineticLaw>\\n          <math xmlns=\"http://www.w3.org/1998/Math/MathML\">\\n            <apply>\\n              <times/>\\n              <ci> cell </ci>\\n              <apply>\\n                <minus/>\\n                <apply>\\n                  <minus/>\\n                  <ci> n5 </ci>\\n                  <apply>\\n                    <times/>\\n                    <ci> p6 </ci>\\n                    <ci> cCOP1c </ci>\\n                  </apply>\\n                </apply>\\n                <apply>\\n                  <times/>\\n                  <ci> m27 </ci>\\n                  <ci> cCOP1c </ci>\\n                  <apply>\\n                    <plus/>\\n                    <cn type=\"integer\"> 1 </cn>\\n                    <apply>\\n                      <times/>\\n                      <ci> p15 </ci>\\n                      <ci> L </ci>\\n                    </apply>\\n                  </apply>\\n                </apply>\\n              </apply>\\n            </apply>\\n          </math>\\n        </kineticLaw>\\n      </reaction>\\n      <reaction id=\"cCOP1n_trans\" reversible=\"false\" fast=\"false\">\\n        <listOfProducts>\\n          <speciesReference species=\"cCOP1n\" stoichiometry=\"1\" constant=\"true\"/>\\n        </listOfProducts>\\n        <listOfModifiers>\\n          <modifierSpeciesReference species=\"cP\"/>\\n          <modifierSpeciesReference species=\"cCOP1c\"/>\\n        </listOfModifiers>\\n        <kineticLaw>\\n          <math xmlns=\"http://www.w3.org/1998/Math/MathML\">\\n            <apply>\\n              <times/>\\n              <ci> cell </ci>\\n              <apply>\\n                <minus/>\\n                <apply>\\n                  <minus/>\\n                  <apply>\\n                    <minus/>\\n                    <apply>\\n                      <times/>\\n                      <ci> p6 </ci>\\n                      <ci> cCOP1c </ci>\\n                    </apply>\\n                    <apply>\\n                      <times/>\\n                      <ci> n6 </ci>\\n                      <ci> L </ci>\\n                      <ci> cP </ci>\\n                      <ci> cCOP1n </ci>\\n                    </apply>\\n                  </apply>\\n                  <apply>\\n                    <times/>\\n                    <ci> n14 </ci>\\n                    <ci> cCOP1n </ci>\\n                  </apply>\\n                </apply>\\n                <apply>\\n                  <times/>\\n                  <ci> m27 </ci>\\n                  <ci> cCOP1n </ci>\\n                  <apply>\\n                    <plus/>\\n                    <cn type=\"integer\"> 1 </cn>\\n                    <apply>\\n                      <times/>\\n                      <ci> p15 </ci>\\n                      <ci> L </ci>\\n                    </apply>\\n                  </apply>\\n                </apply>\\n              </apply>\\n            </apply>\\n          </math>\\n        </kineticLaw>\\n      </reaction>\\n      <reaction id=\"cCOP1d_trans\" reversible=\"false\" fast=\"false\">\\n        <listOfProducts>\\n          <speciesReference species=\"cCOP1d\" stoichiometry=\"1\" constant=\"true\"/>\\n        </listOfProducts>\\n        <listOfModifiers>\\n          <modifierSpeciesReference species=\"cCOP1n\"/>\\n          <modifierSpeciesReference species=\"cP\"/>\\n        </listOfModifiers>\\n        <kineticLaw>\\n          <math xmlns=\"http://www.w3.org/1998/Math/MathML\">\\n            <apply>\\n              <times/>\\n              <ci> cell </ci>\\n              <apply>\\n                <minus/>\\n                <apply>\\n                  <plus/>\\n                  <apply>\\n                    <times/>\\n                    <ci> n14 </ci>\\n                    <ci> cCOP1n </ci>\\n                  </apply>\\n                  <apply>\\n                    <times/>\\n                    <ci> n6 </ci>\\n                    <ci> L </ci>\\n                    <ci> cP </ci>\\n                    <ci> cCOP1n </ci>\\n                  </apply>\\n                </apply>\\n                <apply>\\n                  <times/>\\n                  <ci> m31 </ci>\\n                  <apply>\\n                    <plus/>\\n                    <cn type=\"integer\"> 1 </cn>\\n                    <apply>\\n                      <times/>\\n                      <ci> m33 </ci>\\n                      <apply>\\n                        <minus/>\\n                        <cn type=\"integer\"> 1 </cn>\\n                        <ci> L </ci>\\n                      </apply>\\n                    </apply>\\n                  </apply>\\n                  <ci> cCOP1d </ci>\\n                </apply>\\n              </apply>\\n            </apply>\\n          </math>\\n        </kineticLaw>\\n      </reaction>\\n      <reaction id=\"cEGc_prod\" reversible=\"false\" fast=\"false\">\\n        <listOfProducts>\\n          <speciesReference species=\"cEGc\" stoichiometry=\"1\" constant=\"true\"/>\\n        </listOfProducts>\\n        <listOfModifiers>\\n          <modifierSpeciesReference species=\"cE3c\"/>\\n          <modifierSpeciesReference species=\"cEGn\"/>\\n          <modifierSpeciesReference species=\"cGc\"/>\\n          <modifierSpeciesReference species=\"cCOP1c\"/>\\n        </listOfModifiers>\\n        <kineticLaw>\\n          <math xmlns=\"http://www.w3.org/1998/Math/MathML\">\\n            <apply>\\n              <times/>\\n              <ci> cell </ci>\\n              <apply>\\n                <plus/>\\n                <apply>\\n                  <minus/>\\n                  <apply>\\n                    <minus/>\\n                    <apply>\\n                      <times/>\\n                      <ci> p17 </ci>\\n                      <ci> cE3c </ci>\\n                      <ci> cGc </ci>\\n                    </apply>\\n                    <apply>\\n                      <times/>\\n                      <ci> m9 </ci>\\n                      <ci> cEGc </ci>\\n                      <ci> cCOP1c </ci>\\n                    </apply>\\n                  </apply>\\n                  <apply>\\n                    <times/>\\n                    <ci> p18 </ci>\\n                    <ci> cEGc </ci>\\n                  </apply>\\n                </apply>\\n                <apply>\\n                  <times/>\\n                  <ci> p31 </ci>\\n                  <ci> cEGn </ci>\\n                </apply>\\n              </apply>\\n            </apply>\\n          </math>\\n        </kineticLaw>\\n      </reaction>\\n      <reaction id=\"cEC_form\" reversible=\"false\" fast=\"false\">\\n        <listOfProducts>\\n          <speciesReference species=\"cEC\" stoichiometry=\"1\" constant=\"true\"/>\\n        </listOfProducts>\\n        <listOfModifiers>\\n          <modifierSpeciesReference species=\"cLUX\"/>\\n          <modifierSpeciesReference species=\"cCOP1n\"/>\\n          <modifierSpeciesReference species=\"cE34\"/>\\n          <modifierSpeciesReference species=\"cCOP1d\"/>\\n        </listOfModifiers>\\n        <kineticLaw>\\n          <math xmlns=\"http://www.w3.org/1998/Math/MathML\">\\n            <apply>\\n              <times/>\\n              <ci> cell </ci>\\n              <apply>\\n                <minus/>\\n                <apply>\\n                  <minus/>\\n                  <apply>\\n                    <minus/>\\n                    <apply>\\n                      <times/>\\n                      <ci> p26 </ci>\\n                      <ci> cLUX </ci>\\n                      <ci> cE34 </ci>\\n                    </apply>\\n                    <apply>\\n                      <times/>\\n                      <ci> m36 </ci>\\n                      <ci> cEC </ci>\\n                      <ci> cCOP1n </ci>\\n                    </apply>\\n                  </apply>\\n                  <apply>\\n                    <times/>\\n                    <ci> m37 </ci>\\n                    <ci> cEC </ci>\\n                    <ci> cCOP1d </ci>\\n                  </apply>\\n                </apply>\\n                <apply>\\n                  <times/>\\n                  <ci> m32 </ci>\\n                  <ci> cEC </ci>\\n                  <apply>\\n                    <plus/>\\n                    <cn type=\"integer\"> 1 </cn>\\n                    <apply>\\n                      <divide/>\\n                      <apply>\\n                        <times/>\\n                        <ci> p24 </ci>\\n                        <ci> L </ci>\\n                        <apply>\\n                          <power/>\\n                          <ci> cGn_tot </ci>\\n                          <cn type=\"integer\"> 2 </cn>\\n                        </apply>\\n                      </apply>\\n                      <apply>\\n                        <plus/>\\n                        <apply>\\n                          <power/>\\n                          <ci> g7 </ci>\\n                          <cn type=\"integer\"> 2 </cn>\\n                        </apply>\\n                        <apply>\\n                          <power/>\\n                          <ci> cGn_tot </ci>\\n                          <cn type=\"integer\"> 2 </cn>\\n                        </apply>\\n                      </apply>\\n                    </apply>\\n                  </apply>\\n                </apply>\\n              </apply>\\n            </apply>\\n          </math>\\n        </kineticLaw>\\n      </reaction>\\n      <reaction id=\"cZTL_prod\" reversible=\"false\" fast=\"false\">\\n        <listOfProducts>\\n          <speciesReference species=\"cZTL\" stoichiometry=\"1\" constant=\"true\"/>\\n        </listOfProducts>\\n        <listOfModifiers>\\n          <modifierSpeciesReference species=\"cZG\"/>\\n          <modifierSpeciesReference species=\"cGc\"/>\\n        </listOfModifiers>\\n        <kineticLaw>\\n          <math xmlns=\"http://www.w3.org/1998/Math/MathML\">\\n            <apply>\\n              <times/>\\n              <ci> cell </ci>\\n              <apply>\\n                <minus/>\\n                <apply>\\n                  <plus/>\\n                  <apply>\\n                    <minus/>\\n                    <ci> p14 </ci>\\n                    <apply>\\n                      <times/>\\n                      <ci> p12 </ci>\\n                      <ci> L </ci>\\n                      <ci> cZTL </ci>\\n                      <ci> cGc </ci>\\n                    </apply>\\n                  </apply>\\n                  <apply>\\n                    <times/>\\n                    <ci> p13 </ci>\\n                    <ci> cZG </ci>\\n                    <apply>\\n                      <minus/>\\n                      <cn type=\"integer\"> 1 </cn>\\n                      <ci> L </ci>\\n                    </apply>\\n                  </apply>\\n                </apply>\\n                <apply>\\n                  <times/>\\n                  <ci> m20 </ci>\\n                  <ci> cZTL </ci>\\n                </apply>\\n              </apply>\\n            </apply>\\n          </math>\\n        </kineticLaw>\\n      </reaction>\\n      <reaction id=\"cZG_prod\" reversible=\"false\" fast=\"false\">\\n        <listOfProducts>\\n          <speciesReference species=\"cZG\" stoichiometry=\"1\" constant=\"true\"/>\\n        </listOfProducts>\\n        <listOfModifiers>\\n          <modifierSpeciesReference species=\"cZTL\"/>\\n          <modifierSpeciesReference species=\"cGc\"/>\\n        </listOfModifiers>\\n        <kineticLaw>\\n          <math xmlns=\"http://www.w3.org/1998/Math/MathML\">\\n            <apply>\\n              <times/>\\n              <ci> cell </ci>\\n              <apply>\\n                <minus/>\\n                <apply>\\n                  <minus/>\\n                  <apply>\\n                    <times/>\\n                    <ci> p12 </ci>\\n                    <ci> L </ci>\\n                    <ci> cZTL </ci>\\n                    <ci> cGc </ci>\\n                  </apply>\\n                  <apply>\\n                    <times/>\\n                    <ci> p13 </ci>\\n                    <ci> cZG </ci>\\n                    <apply>\\n                      <minus/>\\n                      <cn type=\"integer\"> 1 </cn>\\n                      <ci> L </ci>\\n                    </apply>\\n                  </apply>\\n                </apply>\\n                <apply>\\n                  <times/>\\n                  <ci> m21 </ci>\\n                  <ci> cZG </ci>\\n                </apply>\\n              </apply>\\n            </apply>\\n          </math>\\n        </kineticLaw>\\n      </reaction>\\n      <reaction id=\"cG_m_trscr\" reversible=\"false\" fast=\"false\">\\n        <listOfProducts>\\n          <speciesReference species=\"cG_m\" stoichiometry=\"1\" constant=\"true\"/>\\n        </listOfProducts>\\n        <listOfModifiers>\\n          <modifierSpeciesReference species=\"cL\"/>\\n          <modifierSpeciesReference species=\"cEC\"/>\\n          <modifierSpeciesReference species=\"cP\"/>\\n        </listOfModifiers>\\n        <kineticLaw>\\n          <math xmlns=\"http://www.w3.org/1998/Math/MathML\">\\n            <apply>\\n              <times/>\\n              <ci> cell </ci>\\n              <apply>\\n                <minus/>\\n                <apply>\\n                  <plus/>\\n                  <apply>\\n                    <times/>\\n                    <ci> L </ci>\\n                    <ci> q2 </ci>\\n                    <ci> cP </ci>\\n                    <ci> gmg </ci>\\n                  </apply>\\n                  <apply>\\n                    <times/>\\n                    <apply>\\n                      <divide/>\\n                      <apply>\\n                        <times/>\\n                        <apply>\\n                          <divide/>\\n                          <apply>\\n                            <times/>\\n                            <ci> n12 </ci>\\n                            <ci> g14 </ci>\\n                          </apply>\\n                          <apply>\\n                            <plus/>\\n                            <ci> g14 </ci>\\n                            <ci> cEC </ci>\\n                          </apply>\\n                        </apply>\\n                        <apply>\\n                          <power/>\\n                          <ci> g15 </ci>\\n                          <cn type=\"integer\"> 2 </cn>\\n                        </apply>\\n                      </apply>\\n                      <apply>\\n                        <plus/>\\n                        <apply>\\n                          <power/>\\n                          <ci> g15 </ci>\\n                          <cn type=\"integer\"> 2 </cn>\\n                        </apply>\\n                        <apply>\\n                          <power/>\\n                          <ci> cL </ci>\\n                          <cn type=\"integer\"> 2 </cn>\\n                        </apply>\\n                      </apply>\\n                    </apply>\\n                    <ci> gmg </ci>\\n                  </apply>\\n                </apply>\\n                <apply>\\n                  <times/>\\n                  <ci> m18 </ci>\\n                  <ci> cG_m </ci>\\n                </apply>\\n              </apply>\\n            </apply>\\n          </math>\\n        </kineticLaw>\\n      </reaction>\\n      <reaction id=\"cG_trans\" reversible=\"false\" fast=\"false\">\\n        <listOfProducts>\\n          <speciesReference species=\"cGc\" stoichiometry=\"1\" constant=\"true\"/>\\n        </listOfProducts>\\n        <listOfModifiers>\\n          <modifierSpeciesReference species=\"cGn\"/>\\n          <modifierSpeciesReference species=\"cZG\"/>\\n          <modifierSpeciesReference species=\"cE3c\"/>\\n          <modifierSpeciesReference species=\"cG_m\"/>\\n          <modifierSpeciesReference species=\"cZTL\"/>\\n        </listOfModifiers>\\n        <kineticLaw>\\n          <math xmlns=\"http://www.w3.org/1998/Math/MathML\">\\n            <apply>\\n              <times/>\\n              <ci> cell </ci>\\n              <apply>\\n                <plus/>\\n                <apply>\\n                  <minus/>\\n                  <apply>\\n                    <minus/>\\n                    <apply>\\n                      <minus/>\\n                      <apply>\\n                        <plus/>\\n                        <apply>\\n                          <minus/>\\n                          <apply>\\n                            <divide/>\\n                            <apply>\\n                              <times/>\\n                              <ci> p11 </ci>\\n                              <ci> cG_m </ci>\\n                            </apply>\\n                            <ci> gmg </ci>\\n                          </apply>\\n                          <apply>\\n                            <times/>\\n                            <ci> p12 </ci>\\n                            <ci> L </ci>\\n                            <ci> cZTL </ci>\\n                            <ci> cGc </ci>\\n                          </apply>\\n                        </apply>\\n                        <apply>\\n                          <times/>\\n                          <ci> p13 </ci>\\n                          <ci> cZG </ci>\\n                          <apply>\\n                            <minus/>\\n                            <cn type=\"integer\"> 1 </cn>\\n                            <ci> L </ci>\\n                          </apply>\\n                        </apply>\\n                      </apply>\\n                      <apply>\\n                        <times/>\\n                        <ci> m19 </ci>\\n                        <ci> cGc </ci>\\n                      </apply>\\n                    </apply>\\n                    <apply>\\n                      <times/>\\n                      <ci> p17 </ci>\\n                      <ci> cE3c </ci>\\n                      <ci> cGc </ci>\\n                    </apply>\\n                  </apply>\\n                  <apply>\\n                    <times/>\\n                    <ci> p28 </ci>\\n                    <ci> cGc </ci>\\n                  </apply>\\n                </apply>\\n                <apply>\\n                  <times/>\\n                  <ci> p29 </ci>\\n                  <ci> cGn </ci>\\n                </apply>\\n              </apply>\\n            </apply>\\n          </math>\\n        </kineticLaw>\\n      </reaction>\\n      <reaction id=\"cGn_traspo\" reversible=\"false\" fast=\"false\">\\n        <listOfProducts>\\n          <speciesReference species=\"cGn\" stoichiometry=\"1\" constant=\"true\"/>\\n        </listOfProducts>\\n        <listOfModifiers>\\n          <modifierSpeciesReference species=\"cE3n\"/>\\n          <modifierSpeciesReference species=\"cGc\"/>\\n        </listOfModifiers>\\n        <kineticLaw>\\n          <math xmlns=\"http://www.w3.org/1998/Math/MathML\">\\n            <apply>\\n              <times/>\\n              <ci> cell </ci>\\n              <apply>\\n                <minus/>\\n                <apply>\\n                  <times/>\\n                  <ci> p28 </ci>\\n                  <ci> cGc </ci>\\n                </apply>\\n                <apply>\\n                  <times/>\\n                  <apply>\\n                    <plus/>\\n                    <ci> p29 </ci>\\n                    <ci> m19 </ci>\\n                    <apply>\\n                      <times/>\\n                      <ci> p17 </ci>\\n                      <ci> cE3n </ci>\\n                    </apply>\\n                  </apply>\\n                  <ci> cGn </ci>\\n                </apply>\\n              </apply>\\n            </apply>\\n          </math>\\n        </kineticLaw>\\n      </reaction>\\n      <reaction id=\"cE34_compl\" reversible=\"false\" fast=\"false\">\\n        <listOfProducts>\\n          <speciesReference species=\"cE34\" stoichiometry=\"1\" constant=\"true\"/>\\n        </listOfProducts>\\n        <listOfModifiers>\\n          <modifierSpeciesReference species=\"cLUX\"/>\\n          <modifierSpeciesReference species=\"cCOP1n\"/>\\n          <modifierSpeciesReference species=\"cE4\"/>\\n          <modifierSpeciesReference species=\"cE3n\"/>\\n          <modifierSpeciesReference species=\"cCOP1d\"/>\\n        </listOfModifiers>\\n        <kineticLaw>\\n          <math xmlns=\"http://www.w3.org/1998/Math/MathML\">\\n            <apply>\\n              <times/>\\n              <ci> cell </ci>\\n              <apply>\\n                <minus/>\\n                <apply>\\n                  <times/>\\n                  <ci> p25 </ci>\\n                  <ci> cE4 </ci>\\n                  <ci> cE3n </ci>\\n                </apply>\\n                <apply>\\n                  <times/>\\n                  <apply>\\n                    <plus/>\\n                    <apply>\\n                      <times/>\\n                      <ci> p26 </ci>\\n                      <ci> cLUX </ci>\\n                    </apply>\\n                    <ci> p21 </ci>\\n                    <apply>\\n                      <times/>\\n                      <ci> m37 </ci>\\n                      <ci> cCOP1d </ci>\\n                    </apply>\\n                    <apply>\\n                      <times/>\\n                      <ci> m36 </ci>\\n                      <ci> cCOP1n </ci>\\n                    </apply>\\n                  </apply>\\n                  <ci> cE34 </ci>\\n                </apply>\\n              </apply>\\n            </apply>\\n          </math>\\n        </kineticLaw>\\n      </reaction>\\n      <reaction id=\"cEGn_tranp\" reversible=\"false\" fast=\"false\">\\n        <listOfProducts>\\n          <speciesReference species=\"cEGn\" stoichiometry=\"1\" constant=\"true\"/>\\n        </listOfProducts>\\n        <listOfModifiers>\\n          <modifierSpeciesReference species=\"cGn\"/>\\n          <modifierSpeciesReference species=\"cCOP1n\"/>\\n          <modifierSpeciesReference species=\"cEGc\"/>\\n          <modifierSpeciesReference species=\"cE3n\"/>\\n          <modifierSpeciesReference species=\"cCOP1d\"/>\\n        </listOfModifiers>\\n        <kineticLaw>\\n          <math xmlns=\"http://www.w3.org/1998/Math/MathML\">\\n            <apply>\\n              <times/>\\n              <ci> cell </ci>\\n              <apply>\\n                <minus/>\\n                <apply>\\n                  <plus/>\\n                  <apply>\\n                    <times/>\\n                    <ci> p18 </ci>\\n                    <ci> cEGc </ci>\\n                  </apply>\\n                  <apply>\\n                    <times/>\\n                    <ci> p17 </ci>\\n                    <ci> cE3n </ci>\\n                    <ci> cGn </ci>\\n                  </apply>\\n                </apply>\\n                <apply>\\n                  <times/>\\n                  <apply>\\n                    <plus/>\\n                    <apply>\\n                      <times/>\\n                      <ci> m9 </ci>\\n                      <ci> cCOP1n </ci>\\n                    </apply>\\n                    <apply>\\n                      <times/>\\n                      <ci> m10 </ci>\\n                      <ci> cCOP1d </ci>\\n                    </apply>\\n                    <ci> p31 </ci>\\n                  </apply>\\n                  <ci> cEGn </ci>\\n                </apply>\\n              </apply>\\n            </apply>\\n          </math>\\n        </kineticLaw>\\n      </reaction>\\n      <reaction id=\"cP9mt_synt\" reversible=\"false\" fast=\"false\">\\n        <listOfProducts>\\n          <speciesReference species=\"cP9_m\" stoichiometry=\"1\" constant=\"true\"/>\\n        </listOfProducts>\\n        <listOfModifiers>\\n          <modifierSpeciesReference species=\"cL\"/>\\n          <modifierSpeciesReference species=\"cEC\"/>\\n          <modifierSpeciesReference species=\"cT\"/>\\n          <modifierSpeciesReference species=\"cP5\"/>\\n          <modifierSpeciesReference species=\"cP\"/>\\n          <modifierSpeciesReference species=\"cLmod\"/>\\n        </listOfModifiers>\\n        <kineticLaw>\\n          <math xmlns=\"http://www.w3.org/1998/Math/MathML\">\\n            <apply>\\n              <times/>\\n              <ci> cell </ci>\\n              <apply>\\n                <minus/>\\n                <apply>\\n                  <plus/>\\n                  <apply>\\n                    <times/>\\n                    <ci> q3t </ci>\\n                    <ci> L </ci>\\n                    <ci> cP </ci>\\n                    <ci> gm9 </ci>\\n                  </apply>\\n                  <apply>\\n                    <times/>\\n                    <apply>\\n                      <divide/>\\n                      <apply>\\n                        <times/>\\n                        <apply>\\n                          <divide/>\\n                          <apply>\\n                            <times/>\\n                            <apply>\\n                              <divide/>\\n                              <apply>\\n                                <times/>\\n                                <apply>\\n                                  <divide/>\\n                                  <apply>\\n                                    <times/>\\n                                    <ci> nt1 </ci>\\n                                    <apply>\\n                                      <plus/>\\n                                      <ci> g1t </ci>\\n                                      <apply>\\n                                        <times/>\\n                                        <ci> at1 </ci>\\n                                        <ci> cLmod </ci>\\n                                      </apply>\\n                                    </apply>\\n                                  </apply>\\n                                  <apply>\\n                                    <plus/>\\n                                    <ci> g1t </ci>\\n                                    <ci> cLmod </ci>\\n                                  </apply>\\n                                </apply>\\n                                <apply>\\n                                  <power/>\\n                                  <ci> g2t </ci>\\n                                  <cn type=\"integer\"> 2 </cn>\\n                                </apply>\\n                              </apply>\\n                              <apply>\\n                                <plus/>\\n                                <apply>\\n                                  <power/>\\n                                  <ci> g2t </ci>\\n                                  <cn type=\"integer\"> 2 </cn>\\n                                </apply>\\n                                <apply>\\n                                  <power/>\\n                                  <ci> cL </ci>\\n                                  <cn type=\"integer\"> 2 </cn>\\n                                </apply>\\n                              </apply>\\n                            </apply>\\n                            <ci> g3t </ci>\\n                          </apply>\\n                          <apply>\\n                            <plus/>\\n                            <ci> g3t </ci>\\n                            <ci> cEC </ci>\\n                          </apply>\\n                        </apply>\\n                        <apply>\\n                          <power/>\\n                          <ci> g4t </ci>\\n                          <cn type=\"integer\"> 2 </cn>\\n                        </apply>\\n                      </apply>\\n                      <apply>\\n                        <plus/>\\n                        <apply>\\n                          <power/>\\n                          <ci> g4t </ci>\\n                          <cn type=\"integer\"> 2 </cn>\\n                        </apply>\\n                        <apply>\\n                          <power/>\\n                          <apply>\\n                            <plus/>\\n                            <ci> cP5 </ci>\\n                            <ci> cT </ci>\\n                          </apply>\\n                          <cn type=\"integer\"> 2 </cn>\\n                        </apply>\\n                      </apply>\\n                    </apply>\\n                    <ci> gm9 </ci>\\n                  </apply>\\n                </apply>\\n                <apply>\\n                  <times/>\\n                  <ci> m1t </ci>\\n                  <ci> cP9_m </ci>\\n                </apply>\\n              </apply>\\n            </apply>\\n          </math>\\n        </kineticLaw>\\n      </reaction>\\n      <reaction id=\"cP9t_synt\" reversible=\"false\" fast=\"false\">\\n        <listOfProducts>\\n          <speciesReference species=\"cP9\" stoichiometry=\"1\" constant=\"true\"/>\\n        </listOfProducts>\\n        <listOfModifiers>\\n          <modifierSpeciesReference species=\"cP9_m\"/>\\n        </listOfModifiers>\\n        <kineticLaw>\\n          <math xmlns=\"http://www.w3.org/1998/Math/MathML\">\\n            <apply>\\n              <times/>\\n              <ci> cell </ci>\\n              <apply>\\n                <minus/>\\n                <apply>\\n                  <divide/>\\n                  <apply>\\n                    <times/>\\n                    <ci> p1t </ci>\\n                    <ci> cP9_m </ci>\\n                  </apply>\\n                  <ci> gm9 </ci>\\n                </apply>\\n                <apply>\\n                  <times/>\\n                  <ci> mp1t </ci>\\n                  <ci> cP9 </ci>\\n                </apply>\\n              </apply>\\n            </apply>\\n          </math>\\n        </kineticLaw>\\n      </reaction>\\n      <reaction id=\"cP7msynt\" reversible=\"false\" fast=\"false\">\\n        <listOfProducts>\\n          <speciesReference species=\"cP7_m\" stoichiometry=\"1\" constant=\"true\"/>\\n        </listOfProducts>\\n        <listOfModifiers>\\n          <modifierSpeciesReference species=\"cL\"/>\\n          <modifierSpeciesReference species=\"cEC\"/>\\n          <modifierSpeciesReference species=\"cT\"/>\\n          <modifierSpeciesReference species=\"cP5\"/>\\n        </listOfModifiers>\\n        <kineticLaw>\\n          <math xmlns=\"http://www.w3.org/1998/Math/MathML\">\\n            <apply>\\n              <times/>\\n              <ci> cell </ci>\\n              <apply>\\n                <minus/>\\n                <apply>\\n                  <times/>\\n                  <apply>\\n                    <divide/>\\n                    <apply>\\n                      <times/>\\n                      <apply>\\n                        <divide/>\\n                        <apply>\\n                          <times/>\\n                          <apply>\\n                            <divide/>\\n                            <apply>\\n                              <times/>\\n                              <ci> nt2 </ci>\\n                              <apply>\\n                                <power/>\\n                                <ci> g5t </ci>\\n                                <cn type=\"integer\"> 2 </cn>\\n                              </apply>\\n                            </apply>\\n                            <apply>\\n                              <plus/>\\n                              <apply>\\n                                <power/>\\n                                <ci> g5t </ci>\\n                                <cn type=\"integer\"> 2 </cn>\\n                              </apply>\\n                              <apply>\\n                                <power/>\\n                                <ci> cL </ci>\\n                                <cn type=\"integer\"> 2 </cn>\\n                              </apply>\\n                            </apply>\\n                          </apply>\\n                          <ci> g6t </ci>\\n                        </apply>\\n                        <apply>\\n                          <plus/>\\n                          <ci> g6t </ci>\\n                          <ci> cEC </ci>\\n                        </apply>\\n                      </apply>\\n                      <apply>\\n                        <power/>\\n                        <ci> g7t </ci>\\n                        <cn type=\"integer\"> 2 </cn>\\n                      </apply>\\n                    </apply>\\n                    <apply>\\n                      <plus/>\\n                      <apply>\\n                        <power/>\\n                        <ci> g7t </ci>\\n                        <cn type=\"integer\"> 2 </cn>\\n                      </apply>\\n                      <apply>\\n                        <power/>\\n                        <apply>\\n                          <plus/>\\n                          <ci> cP5 </ci>\\n                          <ci> cT </ci>\\n                        </apply>\\n                        <cn type=\"integer\"> 2 </cn>\\n                      </apply>\\n                    </apply>\\n                  </apply>\\n                  <ci> gm7 </ci>\\n                </apply>\\n                <apply>\\n                  <times/>\\n                  <ci> m2t </ci>\\n                  <ci> cP7_m </ci>\\n                </apply>\\n              </apply>\\n            </apply>\\n          </math>\\n        </kineticLaw>\\n      </reaction>\\n      <reaction id=\"cP7tsynt\" reversible=\"false\" fast=\"false\">\\n        <listOfProducts>\\n          <speciesReference species=\"cP7\" stoichiometry=\"1\" constant=\"true\"/>\\n        </listOfProducts>\\n        <listOfModifiers>\\n          <modifierSpeciesReference species=\"cP7_m\"/>\\n        </listOfModifiers>\\n        <kineticLaw>\\n          <math xmlns=\"http://www.w3.org/1998/Math/MathML\">\\n            <apply>\\n              <times/>\\n              <ci> cell </ci>\\n              <apply>\\n                <minus/>\\n                <apply>\\n                  <divide/>\\n                  <apply>\\n                    <times/>\\n                    <ci> p2t </ci>\\n                    <ci> cP7_m </ci>\\n                  </apply>\\n                  <ci> gm7 </ci>\\n                </apply>\\n                <apply>\\n                  <times/>\\n                  <apply>\\n                    <plus/>\\n                    <ci> mp2t </ci>\\n                    <apply>\\n                      <times/>\\n                      <ci> mp3t </ci>\\n                      <apply>\\n                        <minus/>\\n                        <cn type=\"integer\"> 1 </cn>\\n                        <ci> L </ci>\\n                      </apply>\\n                    </apply>\\n                  </apply>\\n                  <ci> cP7 </ci>\\n                </apply>\\n              </apply>\\n            </apply>\\n          </math>\\n        </kineticLaw>\\n      </reaction>\\n      <reaction id=\"cP5mtsynt\" reversible=\"false\" fast=\"false\">\\n        <listOfProducts>\\n          <speciesReference species=\"cP5_m\" stoichiometry=\"1\" constant=\"true\"/>\\n        </listOfProducts>\\n        <listOfModifiers>\\n          <modifierSpeciesReference species=\"cL\"/>\\n          <modifierSpeciesReference species=\"cEC\"/>\\n          <modifierSpeciesReference species=\"cT\"/>\\n          <modifierSpeciesReference species=\"cLmod\"/>\\n        </listOfModifiers>\\n        <kineticLaw>\\n          <math xmlns=\"http://www.w3.org/1998/Math/MathML\">\\n            <apply>\\n              <times/>\\n              <ci> cell </ci>\\n              <apply>\\n                <minus/>\\n                <apply>\\n                  <times/>\\n                  <apply>\\n                    <divide/>\\n                    <apply>\\n                      <times/>\\n                      <apply>\\n                        <divide/>\\n                        <apply>\\n                          <times/>\\n                          <apply>\\n                            <divide/>\\n                            <apply>\\n                              <times/>\\n                              <apply>\\n                                <divide/>\\n                                <apply>\\n                                  <times/>\\n                                  <ci> nt3 </ci>\\n                                  <apply>\\n                                    <plus/>\\n                                    <ci> g8t </ci>\\n                                    <apply>\\n                                      <times/>\\n                                      <ci> at2 </ci>\\n                                      <ci> cLmod </ci>\\n                                    </apply>\\n                                  </apply>\\n                                </apply>\\n                                <apply>\\n                                  <plus/>\\n                                  <ci> g8t </ci>\\n                                  <ci> cLmod </ci>\\n                                </apply>\\n                              </apply>\\n                              <apply>\\n                                <power/>\\n                                <ci> g9t </ci>\\n                                <cn type=\"integer\"> 2 </cn>\\n                              </apply>\\n                            </apply>\\n                            <apply>\\n                              <plus/>\\n                              <apply>\\n                                <power/>\\n                                <ci> g9t </ci>\\n                                <cn type=\"integer\"> 2 </cn>\\n                              </apply>\\n                              <apply>\\n                                <power/>\\n                                <ci> cL </ci>\\n                                <cn type=\"integer\"> 2 </cn>\\n                              </apply>\\n                            </apply>\\n                          </apply>\\n                          <ci> g10t </ci>\\n                        </apply>\\n                        <apply>\\n                          <plus/>\\n                          <ci> g10t </ci>\\n                          <ci> cEC </ci>\\n                        </apply>\\n                      </apply>\\n                      <apply>\\n                        <power/>\\n                        <ci> g11t </ci>\\n                        <cn type=\"integer\"> 2 </cn>\\n                      </apply>\\n                    </apply>\\n                    <apply>\\n                      <plus/>\\n                      <apply>\\n                        <power/>\\n                        <ci> g11t </ci>\\n                        <cn type=\"integer\"> 2 </cn>\\n                      </apply>\\n                      <apply>\\n                        <power/>\\n                        <ci> cT </ci>\\n                        <cn type=\"integer\"> 2 </cn>\\n                      </apply>\\n                    </apply>\\n                  </apply>\\n                  <ci> gm5 </ci>\\n                </apply>\\n                <apply>\\n                  <times/>\\n                  <ci> m3t </ci>\\n                  <ci> cP5_m </ci>\\n                </apply>\\n              </apply>\\n            </apply>\\n          </math>\\n        </kineticLaw>\\n      </reaction>\\n      <reaction id=\"cP5tsynt\" reversible=\"false\" fast=\"false\">\\n        <listOfProducts>\\n          <speciesReference species=\"cP5\" stoichiometry=\"1\" constant=\"true\"/>\\n        </listOfProducts>\\n        <listOfModifiers>\\n          <modifierSpeciesReference species=\"cP5_m\"/>\\n        </listOfModifiers>\\n        <kineticLaw>\\n          <math xmlns=\"http://www.w3.org/1998/Math/MathML\">\\n            <apply>\\n              <times/>\\n              <ci> cell </ci>\\n              <apply>\\n                <minus/>\\n                <apply>\\n                  <divide/>\\n                  <apply>\\n                    <times/>\\n                    <ci> p3t </ci>\\n                    <ci> cP5_m </ci>\\n                  </apply>\\n                  <ci> gm5 </ci>\\n                </apply>\\n                <apply>\\n                  <times/>\\n                  <apply>\\n                    <plus/>\\n                    <ci> mp4t </ci>\\n                    <apply>\\n                      <times/>\\n                      <ci> mp5t </ci>\\n                      <apply>\\n                        <minus/>\\n                        <cn type=\"integer\"> 1 </cn>\\n                        <ci> L </ci>\\n                      </apply>\\n                    </apply>\\n                  </apply>\\n                  <ci> cP5 </ci>\\n                </apply>\\n              </apply>\\n            </apply>\\n          </math>\\n        </kineticLaw>\\n      </reaction>\\n      <reaction id=\"cTmtsynt\" reversible=\"false\" fast=\"false\">\\n        <listOfProducts>\\n          <speciesReference species=\"cT_m\" stoichiometry=\"1\" constant=\"true\"/>\\n        </listOfProducts>\\n        <listOfModifiers>\\n          <modifierSpeciesReference species=\"cL\"/>\\n          <modifierSpeciesReference species=\"cEC\"/>\\n          <modifierSpeciesReference species=\"cT\"/>\\n          <modifierSpeciesReference species=\"cLmod\"/>\\n        </listOfModifiers>\\n        <kineticLaw>\\n          <math xmlns=\"http://www.w3.org/1998/Math/MathML\">\\n            <apply>\\n              <times/>\\n              <ci> cell </ci>\\n              <apply>\\n                <minus/>\\n                <apply>\\n                  <times/>\\n                  <apply>\\n                    <divide/>\\n                    <apply>\\n                      <times/>\\n                      <apply>\\n                        <divide/>\\n                        <apply>\\n                          <times/>\\n                          <apply>\\n                            <divide/>\\n                            <apply>\\n                              <times/>\\n                              <apply>\\n                                <divide/>\\n                                <apply>\\n                                  <times/>\\n                                  <ci> nt4 </ci>\\n                                  <apply>\\n                                    <plus/>\\n                                    <ci> g12t </ci>\\n                                    <apply>\\n                                      <times/>\\n                                      <ci> at3 </ci>\\n                                      <ci> cLmod </ci>\\n                                    </apply>\\n                                  </apply>\\n                                </apply>\\n                                <apply>\\n                                  <plus/>\\n                                  <ci> g12t </ci>\\n                                  <ci> cLmod </ci>\\n                                </apply>\\n                              </apply>\\n                              <apply>\\n                                <power/>\\n                                <ci> g13t </ci>\\n                                <cn type=\"integer\"> 2 </cn>\\n                              </apply>\\n                            </apply>\\n                            <apply>\\n                              <plus/>\\n                              <apply>\\n                                <power/>\\n                                <ci> g13t </ci>\\n                                <cn type=\"integer\"> 2 </cn>\\n                              </apply>\\n                              <apply>\\n                                <power/>\\n                                <ci> cL </ci>\\n                                <cn type=\"integer\"> 2 </cn>\\n                              </apply>\\n                            </apply>\\n                          </apply>\\n                          <ci> g14t </ci>\\n                        </apply>\\n                        <apply>\\n                          <plus/>\\n                          <ci> g14t </ci>\\n                          <ci> cEC </ci>\\n                        </apply>\\n                      </apply>\\n                      <apply>\\n                        <power/>\\n                        <ci> g15t </ci>\\n                        <cn type=\"integer\"> 2 </cn>\\n                      </apply>\\n                    </apply>\\n                    <apply>\\n                      <plus/>\\n                      <apply>\\n                        <power/>\\n                        <ci> g15t </ci>\\n                        <cn type=\"integer\"> 2 </cn>\\n                      </apply>\\n                      <apply>\\n                        <power/>\\n                        <ci> cT </ci>\\n                        <cn type=\"integer\"> 2 </cn>\\n                      </apply>\\n                    </apply>\\n                  </apply>\\n                  <ci> gmt </ci>\\n                </apply>\\n                <apply>\\n                  <times/>\\n                  <ci> m4t </ci>\\n                  <ci> cT_m </ci>\\n                </apply>\\n              </apply>\\n            </apply>\\n          </math>\\n        </kineticLaw>\\n      </reaction>\\n      <reaction id=\"cTtsynt\" reversible=\"false\" fast=\"false\">\\n        <listOfProducts>\\n          <speciesReference species=\"cT\" stoichiometry=\"1\" constant=\"true\"/>\\n        </listOfProducts>\\n        <listOfModifiers>\\n          <modifierSpeciesReference species=\"cZG\"/>\\n          <modifierSpeciesReference species=\"cT_m\"/>\\n          <modifierSpeciesReference species=\"cZTL\"/>\\n        </listOfModifiers>\\n        <kineticLaw>\\n          <math xmlns=\"http://www.w3.org/1998/Math/MathML\">\\n            <apply>\\n              <times/>\\n              <ci> cell </ci>\\n              <apply>\\n                <minus/>\\n                <apply>\\n                  <minus/>\\n                  <apply>\\n                    <divide/>\\n                    <apply>\\n                      <times/>\\n                      <ci> p4t </ci>\\n                      <ci> cT_m </ci>\\n                    </apply>\\n                    <ci> gmt </ci>\\n                  </apply>\\n                  <apply>\\n                    <times/>\\n                    <apply>\\n                      <plus/>\\n                      <ci> mp6t </ci>\\n                      <apply>\\n                        <times/>\\n                        <ci> mp7t </ci>\\n                        <apply>\\n                          <minus/>\\n                          <cn type=\"integer\"> 1 </cn>\\n                          <ci> L </ci>\\n                        </apply>\\n                      </apply>\\n                    </apply>\\n                    <ci> cT </ci>\\n                    <apply>\\n                      <plus/>\\n                      <apply>\\n                        <times/>\\n                        <ci> p5t </ci>\\n                        <ci> cZTL </ci>\\n                      </apply>\\n                      <ci> cZG </ci>\\n                    </apply>\\n                  </apply>\\n                </apply>\\n                <apply>\\n                  <times/>\\n                  <ci> mp8t </ci>\\n                  <ci> cT </ci>\\n                </apply>\\n              </apply>\\n            </apply>\\n          </math>\\n        </kineticLaw>\\n      </reaction>\\n    </listOfReactions>\\n  </model>\\n</sbml>\\n'\n"
     ]
    }
   ],
   "source": [
    "url = 'https://fairdomhub.org/models/730/content_blobs/10448/download'\n",
    "response = requests.get(url)\n",
    "data = response.content\n",
    "print(data)"
   ]
  },
  {
   "attachments": {},
   "cell_type": "markdown",
   "metadata": {
    "colab_type": "text",
    "id": "qvtjDnB8rpIY"
   },
   "source": [
    "Now with a **PUT** update the content blob with the data. The url for the content blob was provided by the Model creation JSON response.\n",
    "\n",
    "The **headers={'Content-Type': 'application/octet-stream'}** is currently required, otherwise in this case SEEK tries to process it as an invalid XML request resulting i an error. it indicates that the content is raw binary data"
   ]
  },
  {
   "cell_type": "code",
   "execution_count": 11,
   "metadata": {},
   "outputs": [
    {
     "data": {
      "text/plain": [
       "{'original_filename': 'Copasi_model_file.xml',\n",
       " 'url': None,\n",
       " 'md5sum': None,\n",
       " 'sha1sum': None,\n",
       " 'content_type': 'text/xml',\n",
       " 'link': 'http://localhost:3000/models/20/content_blobs/76',\n",
       " 'size': None}"
      ]
     },
     "execution_count": 11,
     "metadata": {},
     "output_type": "execute_result"
    }
   ],
   "source": [
    "content_blob = populated_model['data']['attributes']['content_blobs'][0]\n",
    "content_blob"
   ]
  },
  {
   "cell_type": "code",
   "execution_count": 12,
   "metadata": {},
   "outputs": [
    {
     "name": "stdout",
     "output_type": "stream",
     "text": [
      "200\n",
      "<bound method Response.json of <Response [200]>>\n"
     ]
    }
   ],
   "source": [
    "blob_url = content_blob['link']\n",
    "\n",
    "headers[\"Content-Type\"] = \"application/octet-stream\"\n",
    "\n",
    "response = requests.put(blob_url, headers=headers, data=data)\n",
    "print(response.status_code)\n",
    "\n",
    "print(response.json)"
   ]
  },
  {
   "cell_type": "markdown",
   "metadata": {
    "colab_type": "text",
    "id": "WYY7k1b0s83P"
   },
   "source": [
    "Fetch the JSON for the model again, and look at the content blob attributes.\n",
    "\n",
    "The size and checksums have now been updated with the new content."
   ]
  },
  {
   "cell_type": "code",
   "execution_count": 13,
   "metadata": {
    "colab": {},
    "colab_type": "code",
    "id": "gSQs5cMNazb3"
   },
   "outputs": [
    {
     "name": "stdout",
     "output_type": "stream",
     "text": [
      "{\n",
      "    \"data\": {\n",
      "        \"id\": \"20\",\n",
      "        \"type\": \"models\",\n",
      "        \"attributes\": {\n",
      "            \"policy\": {\n",
      "                \"access\": \"download\",\n",
      "                \"permissions\": []\n",
      "            },\n",
      "            \"discussion_links\": [],\n",
      "            \"title\": \"Copasi model file\",\n",
      "            \"license\": null,\n",
      "            \"description\": null,\n",
      "            \"latest_version\": 1,\n",
      "            \"tags\": [],\n",
      "            \"versions\": [\n",
      "                {\n",
      "                    \"version\": 1,\n",
      "                    \"revision_comments\": null,\n",
      "                    \"url\": \"http://localhost:3000/models/20?version=1\",\n",
      "                    \"doi\": null\n",
      "                }\n",
      "            ],\n",
      "            \"version\": 1,\n",
      "            \"revision_comments\": null,\n",
      "            \"created_at\": \"2024-12-02T14:31:33.000Z\",\n",
      "            \"updated_at\": \"2024-12-02T14:31:33.000Z\",\n",
      "            \"doi\": null,\n",
      "            \"content_blobs\": [\n",
      "                {\n",
      "                    \"original_filename\": \"Copasi_model_file.xml\",\n",
      "                    \"url\": null,\n",
      "                    \"md5sum\": \"f7b75efa5bc21568cb6bc33a65b7e309\",\n",
      "                    \"sha1sum\": \"0bf1cc56084e0a0743618d25b66566f44c795700\",\n",
      "                    \"content_type\": \"text/xml\",\n",
      "                    \"link\": \"http://localhost:3000/models/20/content_blobs/76\",\n",
      "                    \"size\": 81120\n",
      "                }\n",
      "            ],\n",
      "            \"creators\": [],\n",
      "            \"other_creators\": null,\n",
      "            \"model_type\": null,\n",
      "            \"model_format\": \"SBML\",\n",
      "            \"environment\": null,\n",
      "            \"model_image_link\": null\n",
      "        },\n",
      "        \"relationships\": {\n",
      "            \"creators\": {\n",
      "                \"data\": []\n",
      "            },\n",
      "            \"submitter\": {\n",
      "                \"data\": [\n",
      "                    {\n",
      "                        \"id\": \"1\",\n",
      "                        \"type\": \"people\"\n",
      "                    }\n",
      "                ]\n",
      "            },\n",
      "            \"organisms\": {\n",
      "                \"data\": []\n",
      "            },\n",
      "            \"people\": {\n",
      "                \"data\": [\n",
      "                    {\n",
      "                        \"id\": \"1\",\n",
      "                        \"type\": \"people\"\n",
      "                    }\n",
      "                ]\n",
      "            },\n",
      "            \"projects\": {\n",
      "                \"data\": [\n",
      "                    {\n",
      "                        \"id\": \"1\",\n",
      "                        \"type\": \"projects\"\n",
      "                    }\n",
      "                ]\n",
      "            },\n",
      "            \"investigations\": {\n",
      "                \"data\": []\n",
      "            },\n",
      "            \"studies\": {\n",
      "                \"data\": []\n",
      "            },\n",
      "            \"assays\": {\n",
      "                \"data\": []\n",
      "            },\n",
      "            \"publications\": {\n",
      "                \"data\": []\n",
      "            }\n",
      "        },\n",
      "        \"links\": {\n",
      "            \"self\": \"/models/20?version=1\"\n",
      "        },\n",
      "        \"meta\": {\n",
      "            \"created\": \"2024-12-02T14:31:33.000Z\",\n",
      "            \"modified\": \"2024-12-02T14:31:45.000Z\",\n",
      "            \"api_version\": \"0.3\",\n",
      "            \"base_url\": \"http://localhost:3000\",\n",
      "            \"uuid\": \"0d386090-92e8-013d-039a-7efdca78d793\"\n",
      "        }\n",
      "    },\n",
      "    \"jsonapi\": {\n",
      "        \"version\": \"1.0\"\n",
      "    }\n",
      "}\n"
     ]
    }
   ],
   "source": [
    "model_json = json_for_resource('models',populated_model['data']['id'])\n",
    "print(json.dumps(model_json, indent=4))"
   ]
  }
 ],
 "metadata": {
  "colab": {
   "name": "07 Upload a model.ipynb",
   "private_outputs": true,
   "provenance": [],
   "version": "0.3.2"
  },
  "kernelspec": {
   "display_name": "Python 3 (ipykernel)",
   "language": "python",
   "name": "python3"
  },
  "language_info": {
   "codemirror_mode": {
    "name": "ipython",
    "version": 3
   },
   "file_extension": ".py",
   "mimetype": "text/x-python",
   "name": "python",
   "nbconvert_exporter": "python",
   "pygments_lexer": "ipython3",
   "version": "3.10.12"
  }
 },
 "nbformat": 4,
 "nbformat_minor": 4
}
